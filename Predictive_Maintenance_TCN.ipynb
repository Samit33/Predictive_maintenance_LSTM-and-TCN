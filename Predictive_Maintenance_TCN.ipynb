{
  "nbformat": 4,
  "nbformat_minor": 0,
  "metadata": {
    "colab": {
      "name": "Predictive_Maintenance_TCN.ipynb",
      "version": "0.3.2",
      "provenance": [],
      "collapsed_sections": []
    },
    "kernelspec": {
      "name": "python3",
      "display_name": "Python 3"
    },
    "accelerator": "TPU"
  },
  "cells": [
    {
      "metadata": {
        "id": "TW2J_9dPvFYI",
        "colab_type": "code",
        "outputId": "cc996ae6-e0f2-4b88-e84c-83c80fa2d96f",
        "colab": {
          "base_uri": "https://localhost:8080/",
          "height": 34
        }
      },
      "cell_type": "code",
      "source": [
        "from google.colab import drive\n",
        "drive.mount('/content/drive')"
      ],
      "execution_count": 8,
      "outputs": [
        {
          "output_type": "stream",
          "text": [
            "Drive already mounted at /content/drive; to attempt to forcibly remount, call drive.mount(\"/content/drive\", force_remount=True).\n"
          ],
          "name": "stdout"
        }
      ]
    },
    {
      "metadata": {
        "id": "BVC3YaVmoHoz",
        "colab_type": "code",
        "colab": {
          "base_uri": "https://localhost:8080/",
          "height": 221
        },
        "outputId": "b881fde9-b36f-4b97-9234-95c3f01588fd"
      },
      "cell_type": "code",
      "source": [
        "!pip install keras-tcn"
      ],
      "execution_count": 4,
      "outputs": [
        {
          "output_type": "stream",
          "text": [
            "Collecting keras-tcn\n",
            "  Downloading https://files.pythonhosted.org/packages/a4/f7/f584a9b82c7c7110165949b3e9f1f6e0859979589eaed2b2bd70747e723a/keras_tcn-2.6.7-py2.py3-none-any.whl\n",
            "Requirement already satisfied: numpy in /usr/local/lib/python3.6/dist-packages (from keras-tcn) (1.14.6)\n",
            "Requirement already satisfied: keras in /usr/local/lib/python3.6/dist-packages (from keras-tcn) (2.2.4)\n",
            "Requirement already satisfied: h5py in /usr/local/lib/python3.6/dist-packages (from keras->keras-tcn) (2.8.0)\n",
            "Requirement already satisfied: pyyaml in /usr/local/lib/python3.6/dist-packages (from keras->keras-tcn) (3.13)\n",
            "Requirement already satisfied: keras-preprocessing>=1.0.5 in /usr/local/lib/python3.6/dist-packages (from keras->keras-tcn) (1.0.9)\n",
            "Requirement already satisfied: keras-applications>=1.0.6 in /usr/local/lib/python3.6/dist-packages (from keras->keras-tcn) (1.0.7)\n",
            "Requirement already satisfied: scipy>=0.14 in /usr/local/lib/python3.6/dist-packages (from keras->keras-tcn) (1.1.0)\n",
            "Requirement already satisfied: six>=1.9.0 in /usr/local/lib/python3.6/dist-packages (from keras->keras-tcn) (1.11.0)\n",
            "Installing collected packages: keras-tcn\n",
            "Successfully installed keras-tcn-2.6.7\n"
          ],
          "name": "stdout"
        }
      ]
    },
    {
      "metadata": {
        "id": "HlarKdZaoDJP",
        "colab_type": "code",
        "colab": {}
      },
      "cell_type": "code",
      "source": [
        "import keras"
      ],
      "execution_count": 0,
      "outputs": []
    },
    {
      "metadata": {
        "id": "Uk4QVBT2tNmy",
        "colab_type": "code",
        "colab": {}
      },
      "cell_type": "code",
      "source": [
        "from tcn import TCN"
      ],
      "execution_count": 0,
      "outputs": []
    },
    {
      "metadata": {
        "id": "Zyfk99HteL5_",
        "colab_type": "code",
        "colab": {}
      },
      "cell_type": "code",
      "source": [
        "import pandas as pd\n",
        "import numpy as np\n",
        "import matplotlib.pyplot as plt\n",
        "\n",
        "# Setting seed for reproducability\n",
        "np.random.seed(1234)  \n",
        "PYTHONHASHSEED = 0\n",
        "from sklearn import preprocessing\n",
        "from sklearn.metrics import confusion_matrix, recall_score, precision_score\n",
        "from keras.models import Sequential\n",
        "from keras.layers import Dense, Dropout, LSTM, Activation\n",
        "%matplotlib inline"
      ],
      "execution_count": 0,
      "outputs": []
    },
    {
      "metadata": {
        "id": "JA2U6RvKtS1l",
        "colab_type": "text"
      },
      "cell_type": "markdown",
      "source": [
        "**Data Ingestion**"
      ]
    },
    {
      "metadata": {
        "id": "HvRDyWhlrKPH",
        "colab_type": "code",
        "outputId": "79546bf7-402e-4d57-fdb3-f3fbe0f8a676",
        "colab": {
          "resources": {
            "http://localhost:8080/nbextensions/google.colab/files.js": {
              "data": "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",
              "ok": true,
              "headers": [
                [
                  "content-type",
                  "application/javascript"
                ]
              ],
              "status": 200,
              "status_text": ""
            }
          },
          "base_uri": "https://localhost:8080/",
          "height": 142
        }
      },
      "cell_type": "code",
      "source": [
        "from google.colab import files\n",
        "uploaded = files.upload()"
      ],
      "execution_count": 9,
      "outputs": [
        {
          "output_type": "display_data",
          "data": {
            "text/html": [
              "\n",
              "     <input type=\"file\" id=\"files-9a24aa06-27e5-4a34-90cc-56d5c6dc05b7\" name=\"files[]\" multiple disabled />\n",
              "     <output id=\"result-9a24aa06-27e5-4a34-90cc-56d5c6dc05b7\">\n",
              "      Upload widget is only available when the cell has been executed in the\n",
              "      current browser session. Please rerun this cell to enable.\n",
              "      </output>\n",
              "      <script src=\"/nbextensions/google.colab/files.js\"></script> "
            ],
            "text/plain": [
              "<IPython.core.display.HTML object>"
            ]
          },
          "metadata": {
            "tags": []
          }
        },
        {
          "output_type": "stream",
          "text": [
            "Saving PM_test.txt to PM_test.txt\n",
            "Saving PM_train.txt to PM_train.txt\n",
            "Saving PM_truth.txt to PM_truth.txt\n"
          ],
          "name": "stdout"
        }
      ]
    },
    {
      "metadata": {
        "id": "RrrnAC8DpwQa",
        "colab_type": "code",
        "colab": {}
      },
      "cell_type": "code",
      "source": [
        "# read training data \n",
        "train_df = pd.read_csv('PM_train.txt', sep=\" \", header=None)\n",
        "train_df.drop(train_df.columns[[26, 27]], axis=1, inplace=True)\n",
        "train_df.columns = ['id', 'cycle', 'setting1', 'setting2', 'setting3', 's1', 's2', 's3',\n",
        "                     's4', 's5', 's6', 's7', 's8', 's9', 's10', 's11', 's12', 's13', 's14',\n",
        "                     's15', 's16', 's17', 's18', 's19', 's20', 's21']"
      ],
      "execution_count": 0,
      "outputs": []
    },
    {
      "metadata": {
        "id": "IkvkN8VKr3Uv",
        "colab_type": "code",
        "colab": {}
      },
      "cell_type": "code",
      "source": [
        "# read test data\n",
        "test_df = pd.read_csv('PM_test.txt', sep=\" \", header=None)\n",
        "test_df.drop(test_df.columns[[26, 27]], axis=1, inplace=True)\n",
        "test_df.columns = ['id', 'cycle', 'setting1', 'setting2', 'setting3', 's1', 's2', 's3',\n",
        "                     's4', 's5', 's6', 's7', 's8', 's9', 's10', 's11', 's12', 's13', 's14',\n",
        "                     's15', 's16', 's17', 's18', 's19', 's20', 's21']"
      ],
      "execution_count": 0,
      "outputs": []
    },
    {
      "metadata": {
        "id": "gqyiR4q-r-7l",
        "colab_type": "code",
        "colab": {}
      },
      "cell_type": "code",
      "source": [
        "# read ground truth data\n",
        "truth_df = pd.read_csv('PM_truth.txt', sep=\" \", header=None)\n",
        "truth_df.drop(truth_df.columns[[1]], axis=1, inplace=True)"
      ],
      "execution_count": 0,
      "outputs": []
    },
    {
      "metadata": {
        "id": "ZHjIrIVXsB0H",
        "colab_type": "code",
        "outputId": "01e4500e-3423-4323-c566-997526d56db4",
        "colab": {
          "base_uri": "https://localhost:8080/",
          "height": 233
        }
      },
      "cell_type": "code",
      "source": [
        "train_df = train_df.sort_values(['id','cycle'])\n",
        "train_df.head()"
      ],
      "execution_count": 13,
      "outputs": [
        {
          "output_type": "execute_result",
          "data": {
            "text/html": [
              "<div>\n",
              "<style scoped>\n",
              "    .dataframe tbody tr th:only-of-type {\n",
              "        vertical-align: middle;\n",
              "    }\n",
              "\n",
              "    .dataframe tbody tr th {\n",
              "        vertical-align: top;\n",
              "    }\n",
              "\n",
              "    .dataframe thead th {\n",
              "        text-align: right;\n",
              "    }\n",
              "</style>\n",
              "<table border=\"1\" class=\"dataframe\">\n",
              "  <thead>\n",
              "    <tr style=\"text-align: right;\">\n",
              "      <th></th>\n",
              "      <th>id</th>\n",
              "      <th>cycle</th>\n",
              "      <th>setting1</th>\n",
              "      <th>setting2</th>\n",
              "      <th>setting3</th>\n",
              "      <th>s1</th>\n",
              "      <th>s2</th>\n",
              "      <th>s3</th>\n",
              "      <th>s4</th>\n",
              "      <th>s5</th>\n",
              "      <th>...</th>\n",
              "      <th>s12</th>\n",
              "      <th>s13</th>\n",
              "      <th>s14</th>\n",
              "      <th>s15</th>\n",
              "      <th>s16</th>\n",
              "      <th>s17</th>\n",
              "      <th>s18</th>\n",
              "      <th>s19</th>\n",
              "      <th>s20</th>\n",
              "      <th>s21</th>\n",
              "    </tr>\n",
              "  </thead>\n",
              "  <tbody>\n",
              "    <tr>\n",
              "      <th>0</th>\n",
              "      <td>1</td>\n",
              "      <td>1</td>\n",
              "      <td>-0.0007</td>\n",
              "      <td>-0.0004</td>\n",
              "      <td>100.0</td>\n",
              "      <td>518.67</td>\n",
              "      <td>641.82</td>\n",
              "      <td>1589.70</td>\n",
              "      <td>1400.60</td>\n",
              "      <td>14.62</td>\n",
              "      <td>...</td>\n",
              "      <td>521.66</td>\n",
              "      <td>2388.02</td>\n",
              "      <td>8138.62</td>\n",
              "      <td>8.4195</td>\n",
              "      <td>0.03</td>\n",
              "      <td>392</td>\n",
              "      <td>2388</td>\n",
              "      <td>100.0</td>\n",
              "      <td>39.06</td>\n",
              "      <td>23.4190</td>\n",
              "    </tr>\n",
              "    <tr>\n",
              "      <th>1</th>\n",
              "      <td>1</td>\n",
              "      <td>2</td>\n",
              "      <td>0.0019</td>\n",
              "      <td>-0.0003</td>\n",
              "      <td>100.0</td>\n",
              "      <td>518.67</td>\n",
              "      <td>642.15</td>\n",
              "      <td>1591.82</td>\n",
              "      <td>1403.14</td>\n",
              "      <td>14.62</td>\n",
              "      <td>...</td>\n",
              "      <td>522.28</td>\n",
              "      <td>2388.07</td>\n",
              "      <td>8131.49</td>\n",
              "      <td>8.4318</td>\n",
              "      <td>0.03</td>\n",
              "      <td>392</td>\n",
              "      <td>2388</td>\n",
              "      <td>100.0</td>\n",
              "      <td>39.00</td>\n",
              "      <td>23.4236</td>\n",
              "    </tr>\n",
              "    <tr>\n",
              "      <th>2</th>\n",
              "      <td>1</td>\n",
              "      <td>3</td>\n",
              "      <td>-0.0043</td>\n",
              "      <td>0.0003</td>\n",
              "      <td>100.0</td>\n",
              "      <td>518.67</td>\n",
              "      <td>642.35</td>\n",
              "      <td>1587.99</td>\n",
              "      <td>1404.20</td>\n",
              "      <td>14.62</td>\n",
              "      <td>...</td>\n",
              "      <td>522.42</td>\n",
              "      <td>2388.03</td>\n",
              "      <td>8133.23</td>\n",
              "      <td>8.4178</td>\n",
              "      <td>0.03</td>\n",
              "      <td>390</td>\n",
              "      <td>2388</td>\n",
              "      <td>100.0</td>\n",
              "      <td>38.95</td>\n",
              "      <td>23.3442</td>\n",
              "    </tr>\n",
              "    <tr>\n",
              "      <th>3</th>\n",
              "      <td>1</td>\n",
              "      <td>4</td>\n",
              "      <td>0.0007</td>\n",
              "      <td>0.0000</td>\n",
              "      <td>100.0</td>\n",
              "      <td>518.67</td>\n",
              "      <td>642.35</td>\n",
              "      <td>1582.79</td>\n",
              "      <td>1401.87</td>\n",
              "      <td>14.62</td>\n",
              "      <td>...</td>\n",
              "      <td>522.86</td>\n",
              "      <td>2388.08</td>\n",
              "      <td>8133.83</td>\n",
              "      <td>8.3682</td>\n",
              "      <td>0.03</td>\n",
              "      <td>392</td>\n",
              "      <td>2388</td>\n",
              "      <td>100.0</td>\n",
              "      <td>38.88</td>\n",
              "      <td>23.3739</td>\n",
              "    </tr>\n",
              "    <tr>\n",
              "      <th>4</th>\n",
              "      <td>1</td>\n",
              "      <td>5</td>\n",
              "      <td>-0.0019</td>\n",
              "      <td>-0.0002</td>\n",
              "      <td>100.0</td>\n",
              "      <td>518.67</td>\n",
              "      <td>642.37</td>\n",
              "      <td>1582.85</td>\n",
              "      <td>1406.22</td>\n",
              "      <td>14.62</td>\n",
              "      <td>...</td>\n",
              "      <td>522.19</td>\n",
              "      <td>2388.04</td>\n",
              "      <td>8133.80</td>\n",
              "      <td>8.4294</td>\n",
              "      <td>0.03</td>\n",
              "      <td>393</td>\n",
              "      <td>2388</td>\n",
              "      <td>100.0</td>\n",
              "      <td>38.90</td>\n",
              "      <td>23.4044</td>\n",
              "    </tr>\n",
              "  </tbody>\n",
              "</table>\n",
              "<p>5 rows × 26 columns</p>\n",
              "</div>"
            ],
            "text/plain": [
              "   id  cycle  setting1  setting2  setting3      s1      s2       s3       s4  \\\n",
              "0   1      1   -0.0007   -0.0004     100.0  518.67  641.82  1589.70  1400.60   \n",
              "1   1      2    0.0019   -0.0003     100.0  518.67  642.15  1591.82  1403.14   \n",
              "2   1      3   -0.0043    0.0003     100.0  518.67  642.35  1587.99  1404.20   \n",
              "3   1      4    0.0007    0.0000     100.0  518.67  642.35  1582.79  1401.87   \n",
              "4   1      5   -0.0019   -0.0002     100.0  518.67  642.37  1582.85  1406.22   \n",
              "\n",
              "      s5   ...        s12      s13      s14     s15   s16  s17   s18    s19  \\\n",
              "0  14.62   ...     521.66  2388.02  8138.62  8.4195  0.03  392  2388  100.0   \n",
              "1  14.62   ...     522.28  2388.07  8131.49  8.4318  0.03  392  2388  100.0   \n",
              "2  14.62   ...     522.42  2388.03  8133.23  8.4178  0.03  390  2388  100.0   \n",
              "3  14.62   ...     522.86  2388.08  8133.83  8.3682  0.03  392  2388  100.0   \n",
              "4  14.62   ...     522.19  2388.04  8133.80  8.4294  0.03  393  2388  100.0   \n",
              "\n",
              "     s20      s21  \n",
              "0  39.06  23.4190  \n",
              "1  39.00  23.4236  \n",
              "2  38.95  23.3442  \n",
              "3  38.88  23.3739  \n",
              "4  38.90  23.4044  \n",
              "\n",
              "[5 rows x 26 columns]"
            ]
          },
          "metadata": {
            "tags": []
          },
          "execution_count": 13
        }
      ]
    },
    {
      "metadata": {
        "id": "blBY3KwLsM9x",
        "colab_type": "text"
      },
      "cell_type": "markdown",
      "source": [
        "### Data Preprocessing"
      ]
    },
    {
      "metadata": {
        "id": "llBVVfsesesn",
        "colab_type": "text"
      },
      "cell_type": "markdown",
      "source": [
        "Generate labels for the training data which are Remaining Useful Life (RUL), label1 and label2 as was done in the Predictive Maintenance Template. Here, we will only make use of \"label1\" for binary clasification, while trying to answer the question: is a specific engine going to fail within w1 cycles?"
      ]
    },
    {
      "metadata": {
        "id": "60xFDYe6sS84",
        "colab_type": "code",
        "outputId": "5a7c9ebe-6525-46e0-bd3f-1ba042602d84",
        "colab": {
          "base_uri": "https://localhost:8080/",
          "height": 233
        }
      },
      "cell_type": "code",
      "source": [
        "# Data Labeling - generate column RUL\n",
        "rul = pd.DataFrame(train_df.groupby('id')['cycle'].max()).reset_index()\n",
        "rul.columns = ['id', 'max']\n",
        "train_df = train_df.merge(rul, on=['id'], how='left')\n",
        "train_df['RUL'] = train_df['max'] - train_df['cycle']\n",
        "train_df.drop('max', axis=1, inplace=True)\n",
        "train_df.head()"
      ],
      "execution_count": 14,
      "outputs": [
        {
          "output_type": "execute_result",
          "data": {
            "text/html": [
              "<div>\n",
              "<style scoped>\n",
              "    .dataframe tbody tr th:only-of-type {\n",
              "        vertical-align: middle;\n",
              "    }\n",
              "\n",
              "    .dataframe tbody tr th {\n",
              "        vertical-align: top;\n",
              "    }\n",
              "\n",
              "    .dataframe thead th {\n",
              "        text-align: right;\n",
              "    }\n",
              "</style>\n",
              "<table border=\"1\" class=\"dataframe\">\n",
              "  <thead>\n",
              "    <tr style=\"text-align: right;\">\n",
              "      <th></th>\n",
              "      <th>id</th>\n",
              "      <th>cycle</th>\n",
              "      <th>setting1</th>\n",
              "      <th>setting2</th>\n",
              "      <th>setting3</th>\n",
              "      <th>s1</th>\n",
              "      <th>s2</th>\n",
              "      <th>s3</th>\n",
              "      <th>s4</th>\n",
              "      <th>s5</th>\n",
              "      <th>...</th>\n",
              "      <th>s13</th>\n",
              "      <th>s14</th>\n",
              "      <th>s15</th>\n",
              "      <th>s16</th>\n",
              "      <th>s17</th>\n",
              "      <th>s18</th>\n",
              "      <th>s19</th>\n",
              "      <th>s20</th>\n",
              "      <th>s21</th>\n",
              "      <th>RUL</th>\n",
              "    </tr>\n",
              "  </thead>\n",
              "  <tbody>\n",
              "    <tr>\n",
              "      <th>0</th>\n",
              "      <td>1</td>\n",
              "      <td>1</td>\n",
              "      <td>-0.0007</td>\n",
              "      <td>-0.0004</td>\n",
              "      <td>100.0</td>\n",
              "      <td>518.67</td>\n",
              "      <td>641.82</td>\n",
              "      <td>1589.70</td>\n",
              "      <td>1400.60</td>\n",
              "      <td>14.62</td>\n",
              "      <td>...</td>\n",
              "      <td>2388.02</td>\n",
              "      <td>8138.62</td>\n",
              "      <td>8.4195</td>\n",
              "      <td>0.03</td>\n",
              "      <td>392</td>\n",
              "      <td>2388</td>\n",
              "      <td>100.0</td>\n",
              "      <td>39.06</td>\n",
              "      <td>23.4190</td>\n",
              "      <td>191</td>\n",
              "    </tr>\n",
              "    <tr>\n",
              "      <th>1</th>\n",
              "      <td>1</td>\n",
              "      <td>2</td>\n",
              "      <td>0.0019</td>\n",
              "      <td>-0.0003</td>\n",
              "      <td>100.0</td>\n",
              "      <td>518.67</td>\n",
              "      <td>642.15</td>\n",
              "      <td>1591.82</td>\n",
              "      <td>1403.14</td>\n",
              "      <td>14.62</td>\n",
              "      <td>...</td>\n",
              "      <td>2388.07</td>\n",
              "      <td>8131.49</td>\n",
              "      <td>8.4318</td>\n",
              "      <td>0.03</td>\n",
              "      <td>392</td>\n",
              "      <td>2388</td>\n",
              "      <td>100.0</td>\n",
              "      <td>39.00</td>\n",
              "      <td>23.4236</td>\n",
              "      <td>190</td>\n",
              "    </tr>\n",
              "    <tr>\n",
              "      <th>2</th>\n",
              "      <td>1</td>\n",
              "      <td>3</td>\n",
              "      <td>-0.0043</td>\n",
              "      <td>0.0003</td>\n",
              "      <td>100.0</td>\n",
              "      <td>518.67</td>\n",
              "      <td>642.35</td>\n",
              "      <td>1587.99</td>\n",
              "      <td>1404.20</td>\n",
              "      <td>14.62</td>\n",
              "      <td>...</td>\n",
              "      <td>2388.03</td>\n",
              "      <td>8133.23</td>\n",
              "      <td>8.4178</td>\n",
              "      <td>0.03</td>\n",
              "      <td>390</td>\n",
              "      <td>2388</td>\n",
              "      <td>100.0</td>\n",
              "      <td>38.95</td>\n",
              "      <td>23.3442</td>\n",
              "      <td>189</td>\n",
              "    </tr>\n",
              "    <tr>\n",
              "      <th>3</th>\n",
              "      <td>1</td>\n",
              "      <td>4</td>\n",
              "      <td>0.0007</td>\n",
              "      <td>0.0000</td>\n",
              "      <td>100.0</td>\n",
              "      <td>518.67</td>\n",
              "      <td>642.35</td>\n",
              "      <td>1582.79</td>\n",
              "      <td>1401.87</td>\n",
              "      <td>14.62</td>\n",
              "      <td>...</td>\n",
              "      <td>2388.08</td>\n",
              "      <td>8133.83</td>\n",
              "      <td>8.3682</td>\n",
              "      <td>0.03</td>\n",
              "      <td>392</td>\n",
              "      <td>2388</td>\n",
              "      <td>100.0</td>\n",
              "      <td>38.88</td>\n",
              "      <td>23.3739</td>\n",
              "      <td>188</td>\n",
              "    </tr>\n",
              "    <tr>\n",
              "      <th>4</th>\n",
              "      <td>1</td>\n",
              "      <td>5</td>\n",
              "      <td>-0.0019</td>\n",
              "      <td>-0.0002</td>\n",
              "      <td>100.0</td>\n",
              "      <td>518.67</td>\n",
              "      <td>642.37</td>\n",
              "      <td>1582.85</td>\n",
              "      <td>1406.22</td>\n",
              "      <td>14.62</td>\n",
              "      <td>...</td>\n",
              "      <td>2388.04</td>\n",
              "      <td>8133.80</td>\n",
              "      <td>8.4294</td>\n",
              "      <td>0.03</td>\n",
              "      <td>393</td>\n",
              "      <td>2388</td>\n",
              "      <td>100.0</td>\n",
              "      <td>38.90</td>\n",
              "      <td>23.4044</td>\n",
              "      <td>187</td>\n",
              "    </tr>\n",
              "  </tbody>\n",
              "</table>\n",
              "<p>5 rows × 27 columns</p>\n",
              "</div>"
            ],
            "text/plain": [
              "   id  cycle  setting1  setting2  setting3      s1      s2       s3       s4  \\\n",
              "0   1      1   -0.0007   -0.0004     100.0  518.67  641.82  1589.70  1400.60   \n",
              "1   1      2    0.0019   -0.0003     100.0  518.67  642.15  1591.82  1403.14   \n",
              "2   1      3   -0.0043    0.0003     100.0  518.67  642.35  1587.99  1404.20   \n",
              "3   1      4    0.0007    0.0000     100.0  518.67  642.35  1582.79  1401.87   \n",
              "4   1      5   -0.0019   -0.0002     100.0  518.67  642.37  1582.85  1406.22   \n",
              "\n",
              "      s5 ...       s13      s14     s15   s16  s17   s18    s19    s20  \\\n",
              "0  14.62 ...   2388.02  8138.62  8.4195  0.03  392  2388  100.0  39.06   \n",
              "1  14.62 ...   2388.07  8131.49  8.4318  0.03  392  2388  100.0  39.00   \n",
              "2  14.62 ...   2388.03  8133.23  8.4178  0.03  390  2388  100.0  38.95   \n",
              "3  14.62 ...   2388.08  8133.83  8.3682  0.03  392  2388  100.0  38.88   \n",
              "4  14.62 ...   2388.04  8133.80  8.4294  0.03  393  2388  100.0  38.90   \n",
              "\n",
              "       s21  RUL  \n",
              "0  23.4190  191  \n",
              "1  23.4236  190  \n",
              "2  23.3442  189  \n",
              "3  23.3739  188  \n",
              "4  23.4044  187  \n",
              "\n",
              "[5 rows x 27 columns]"
            ]
          },
          "metadata": {
            "tags": []
          },
          "execution_count": 14
        }
      ]
    },
    {
      "metadata": {
        "id": "le-Jb6u7tcch",
        "colab_type": "code",
        "outputId": "3ccbdef9-8f03-4688-a48f-3bb43e5a2ca1",
        "colab": {
          "base_uri": "https://localhost:8080/",
          "height": 233
        }
      },
      "cell_type": "code",
      "source": [
        "# generate label columns for training data\n",
        "w1 = 30\n",
        "w0 = 15\n",
        "train_df['label1'] = np.where(train_df['RUL'] <= w1, 1, 0 )\n",
        "train_df['label2'] = train_df['label1']\n",
        "train_df.loc[train_df['RUL'] <= w0, 'label2'] = 2\n",
        "train_df.head()"
      ],
      "execution_count": 15,
      "outputs": [
        {
          "output_type": "execute_result",
          "data": {
            "text/html": [
              "<div>\n",
              "<style scoped>\n",
              "    .dataframe tbody tr th:only-of-type {\n",
              "        vertical-align: middle;\n",
              "    }\n",
              "\n",
              "    .dataframe tbody tr th {\n",
              "        vertical-align: top;\n",
              "    }\n",
              "\n",
              "    .dataframe thead th {\n",
              "        text-align: right;\n",
              "    }\n",
              "</style>\n",
              "<table border=\"1\" class=\"dataframe\">\n",
              "  <thead>\n",
              "    <tr style=\"text-align: right;\">\n",
              "      <th></th>\n",
              "      <th>id</th>\n",
              "      <th>cycle</th>\n",
              "      <th>setting1</th>\n",
              "      <th>setting2</th>\n",
              "      <th>setting3</th>\n",
              "      <th>s1</th>\n",
              "      <th>s2</th>\n",
              "      <th>s3</th>\n",
              "      <th>s4</th>\n",
              "      <th>s5</th>\n",
              "      <th>...</th>\n",
              "      <th>s15</th>\n",
              "      <th>s16</th>\n",
              "      <th>s17</th>\n",
              "      <th>s18</th>\n",
              "      <th>s19</th>\n",
              "      <th>s20</th>\n",
              "      <th>s21</th>\n",
              "      <th>RUL</th>\n",
              "      <th>label1</th>\n",
              "      <th>label2</th>\n",
              "    </tr>\n",
              "  </thead>\n",
              "  <tbody>\n",
              "    <tr>\n",
              "      <th>0</th>\n",
              "      <td>1</td>\n",
              "      <td>1</td>\n",
              "      <td>-0.0007</td>\n",
              "      <td>-0.0004</td>\n",
              "      <td>100.0</td>\n",
              "      <td>518.67</td>\n",
              "      <td>641.82</td>\n",
              "      <td>1589.70</td>\n",
              "      <td>1400.60</td>\n",
              "      <td>14.62</td>\n",
              "      <td>...</td>\n",
              "      <td>8.4195</td>\n",
              "      <td>0.03</td>\n",
              "      <td>392</td>\n",
              "      <td>2388</td>\n",
              "      <td>100.0</td>\n",
              "      <td>39.06</td>\n",
              "      <td>23.4190</td>\n",
              "      <td>191</td>\n",
              "      <td>0</td>\n",
              "      <td>0</td>\n",
              "    </tr>\n",
              "    <tr>\n",
              "      <th>1</th>\n",
              "      <td>1</td>\n",
              "      <td>2</td>\n",
              "      <td>0.0019</td>\n",
              "      <td>-0.0003</td>\n",
              "      <td>100.0</td>\n",
              "      <td>518.67</td>\n",
              "      <td>642.15</td>\n",
              "      <td>1591.82</td>\n",
              "      <td>1403.14</td>\n",
              "      <td>14.62</td>\n",
              "      <td>...</td>\n",
              "      <td>8.4318</td>\n",
              "      <td>0.03</td>\n",
              "      <td>392</td>\n",
              "      <td>2388</td>\n",
              "      <td>100.0</td>\n",
              "      <td>39.00</td>\n",
              "      <td>23.4236</td>\n",
              "      <td>190</td>\n",
              "      <td>0</td>\n",
              "      <td>0</td>\n",
              "    </tr>\n",
              "    <tr>\n",
              "      <th>2</th>\n",
              "      <td>1</td>\n",
              "      <td>3</td>\n",
              "      <td>-0.0043</td>\n",
              "      <td>0.0003</td>\n",
              "      <td>100.0</td>\n",
              "      <td>518.67</td>\n",
              "      <td>642.35</td>\n",
              "      <td>1587.99</td>\n",
              "      <td>1404.20</td>\n",
              "      <td>14.62</td>\n",
              "      <td>...</td>\n",
              "      <td>8.4178</td>\n",
              "      <td>0.03</td>\n",
              "      <td>390</td>\n",
              "      <td>2388</td>\n",
              "      <td>100.0</td>\n",
              "      <td>38.95</td>\n",
              "      <td>23.3442</td>\n",
              "      <td>189</td>\n",
              "      <td>0</td>\n",
              "      <td>0</td>\n",
              "    </tr>\n",
              "    <tr>\n",
              "      <th>3</th>\n",
              "      <td>1</td>\n",
              "      <td>4</td>\n",
              "      <td>0.0007</td>\n",
              "      <td>0.0000</td>\n",
              "      <td>100.0</td>\n",
              "      <td>518.67</td>\n",
              "      <td>642.35</td>\n",
              "      <td>1582.79</td>\n",
              "      <td>1401.87</td>\n",
              "      <td>14.62</td>\n",
              "      <td>...</td>\n",
              "      <td>8.3682</td>\n",
              "      <td>0.03</td>\n",
              "      <td>392</td>\n",
              "      <td>2388</td>\n",
              "      <td>100.0</td>\n",
              "      <td>38.88</td>\n",
              "      <td>23.3739</td>\n",
              "      <td>188</td>\n",
              "      <td>0</td>\n",
              "      <td>0</td>\n",
              "    </tr>\n",
              "    <tr>\n",
              "      <th>4</th>\n",
              "      <td>1</td>\n",
              "      <td>5</td>\n",
              "      <td>-0.0019</td>\n",
              "      <td>-0.0002</td>\n",
              "      <td>100.0</td>\n",
              "      <td>518.67</td>\n",
              "      <td>642.37</td>\n",
              "      <td>1582.85</td>\n",
              "      <td>1406.22</td>\n",
              "      <td>14.62</td>\n",
              "      <td>...</td>\n",
              "      <td>8.4294</td>\n",
              "      <td>0.03</td>\n",
              "      <td>393</td>\n",
              "      <td>2388</td>\n",
              "      <td>100.0</td>\n",
              "      <td>38.90</td>\n",
              "      <td>23.4044</td>\n",
              "      <td>187</td>\n",
              "      <td>0</td>\n",
              "      <td>0</td>\n",
              "    </tr>\n",
              "  </tbody>\n",
              "</table>\n",
              "<p>5 rows × 29 columns</p>\n",
              "</div>"
            ],
            "text/plain": [
              "   id  cycle  setting1  setting2  setting3      s1      s2       s3       s4  \\\n",
              "0   1      1   -0.0007   -0.0004     100.0  518.67  641.82  1589.70  1400.60   \n",
              "1   1      2    0.0019   -0.0003     100.0  518.67  642.15  1591.82  1403.14   \n",
              "2   1      3   -0.0043    0.0003     100.0  518.67  642.35  1587.99  1404.20   \n",
              "3   1      4    0.0007    0.0000     100.0  518.67  642.35  1582.79  1401.87   \n",
              "4   1      5   -0.0019   -0.0002     100.0  518.67  642.37  1582.85  1406.22   \n",
              "\n",
              "      s5   ...       s15   s16  s17   s18    s19    s20      s21  RUL  label1  \\\n",
              "0  14.62   ...    8.4195  0.03  392  2388  100.0  39.06  23.4190  191       0   \n",
              "1  14.62   ...    8.4318  0.03  392  2388  100.0  39.00  23.4236  190       0   \n",
              "2  14.62   ...    8.4178  0.03  390  2388  100.0  38.95  23.3442  189       0   \n",
              "3  14.62   ...    8.3682  0.03  392  2388  100.0  38.88  23.3739  188       0   \n",
              "4  14.62   ...    8.4294  0.03  393  2388  100.0  38.90  23.4044  187       0   \n",
              "\n",
              "   label2  \n",
              "0       0  \n",
              "1       0  \n",
              "2       0  \n",
              "3       0  \n",
              "4       0  \n",
              "\n",
              "[5 rows x 29 columns]"
            ]
          },
          "metadata": {
            "tags": []
          },
          "execution_count": 15
        }
      ]
    },
    {
      "metadata": {
        "id": "S1q0Wj-zuYwV",
        "colab_type": "code",
        "outputId": "69a1325f-224c-44fb-de1a-d0cf4df16de5",
        "colab": {
          "base_uri": "https://localhost:8080/",
          "height": 287
        }
      },
      "cell_type": "code",
      "source": [
        "# MinMax normalization\n",
        "train_df['cycle_norm'] = train_df['cycle']\n",
        "cols_normalize = train_df.columns.difference(['id','cycle','RUL','label1','label2'])\n",
        "min_max_scaler = preprocessing.MinMaxScaler()\n",
        "norm_train_df = pd.DataFrame(min_max_scaler.fit_transform(train_df[cols_normalize]), \n",
        "                             columns=cols_normalize, \n",
        "                             index=train_df.index)\n",
        "join_df = train_df[train_df.columns.difference(cols_normalize)].join(norm_train_df)\n",
        "train_df = join_df.reindex(columns = train_df.columns)\n",
        "train_df.head()"
      ],
      "execution_count": 16,
      "outputs": [
        {
          "output_type": "stream",
          "text": [
            "/usr/local/lib/python3.6/dist-packages/sklearn/preprocessing/data.py:334: DataConversionWarning: Data with input dtype int64, float64 were all converted to float64 by MinMaxScaler.\n",
            "  return self.partial_fit(X, y)\n"
          ],
          "name": "stderr"
        },
        {
          "output_type": "execute_result",
          "data": {
            "text/html": [
              "<div>\n",
              "<style scoped>\n",
              "    .dataframe tbody tr th:only-of-type {\n",
              "        vertical-align: middle;\n",
              "    }\n",
              "\n",
              "    .dataframe tbody tr th {\n",
              "        vertical-align: top;\n",
              "    }\n",
              "\n",
              "    .dataframe thead th {\n",
              "        text-align: right;\n",
              "    }\n",
              "</style>\n",
              "<table border=\"1\" class=\"dataframe\">\n",
              "  <thead>\n",
              "    <tr style=\"text-align: right;\">\n",
              "      <th></th>\n",
              "      <th>id</th>\n",
              "      <th>cycle</th>\n",
              "      <th>setting1</th>\n",
              "      <th>setting2</th>\n",
              "      <th>setting3</th>\n",
              "      <th>s1</th>\n",
              "      <th>s2</th>\n",
              "      <th>s3</th>\n",
              "      <th>s4</th>\n",
              "      <th>s5</th>\n",
              "      <th>...</th>\n",
              "      <th>s16</th>\n",
              "      <th>s17</th>\n",
              "      <th>s18</th>\n",
              "      <th>s19</th>\n",
              "      <th>s20</th>\n",
              "      <th>s21</th>\n",
              "      <th>RUL</th>\n",
              "      <th>label1</th>\n",
              "      <th>label2</th>\n",
              "      <th>cycle_norm</th>\n",
              "    </tr>\n",
              "  </thead>\n",
              "  <tbody>\n",
              "    <tr>\n",
              "      <th>0</th>\n",
              "      <td>1</td>\n",
              "      <td>1</td>\n",
              "      <td>0.459770</td>\n",
              "      <td>0.166667</td>\n",
              "      <td>0.0</td>\n",
              "      <td>0.0</td>\n",
              "      <td>0.183735</td>\n",
              "      <td>0.406802</td>\n",
              "      <td>0.309757</td>\n",
              "      <td>0.0</td>\n",
              "      <td>...</td>\n",
              "      <td>0.0</td>\n",
              "      <td>0.333333</td>\n",
              "      <td>0.0</td>\n",
              "      <td>0.0</td>\n",
              "      <td>0.713178</td>\n",
              "      <td>0.724662</td>\n",
              "      <td>191</td>\n",
              "      <td>0</td>\n",
              "      <td>0</td>\n",
              "      <td>0.00000</td>\n",
              "    </tr>\n",
              "    <tr>\n",
              "      <th>1</th>\n",
              "      <td>1</td>\n",
              "      <td>2</td>\n",
              "      <td>0.609195</td>\n",
              "      <td>0.250000</td>\n",
              "      <td>0.0</td>\n",
              "      <td>0.0</td>\n",
              "      <td>0.283133</td>\n",
              "      <td>0.453019</td>\n",
              "      <td>0.352633</td>\n",
              "      <td>0.0</td>\n",
              "      <td>...</td>\n",
              "      <td>0.0</td>\n",
              "      <td>0.333333</td>\n",
              "      <td>0.0</td>\n",
              "      <td>0.0</td>\n",
              "      <td>0.666667</td>\n",
              "      <td>0.731014</td>\n",
              "      <td>190</td>\n",
              "      <td>0</td>\n",
              "      <td>0</td>\n",
              "      <td>0.00277</td>\n",
              "    </tr>\n",
              "    <tr>\n",
              "      <th>2</th>\n",
              "      <td>1</td>\n",
              "      <td>3</td>\n",
              "      <td>0.252874</td>\n",
              "      <td>0.750000</td>\n",
              "      <td>0.0</td>\n",
              "      <td>0.0</td>\n",
              "      <td>0.343373</td>\n",
              "      <td>0.369523</td>\n",
              "      <td>0.370527</td>\n",
              "      <td>0.0</td>\n",
              "      <td>...</td>\n",
              "      <td>0.0</td>\n",
              "      <td>0.166667</td>\n",
              "      <td>0.0</td>\n",
              "      <td>0.0</td>\n",
              "      <td>0.627907</td>\n",
              "      <td>0.621375</td>\n",
              "      <td>189</td>\n",
              "      <td>0</td>\n",
              "      <td>0</td>\n",
              "      <td>0.00554</td>\n",
              "    </tr>\n",
              "    <tr>\n",
              "      <th>3</th>\n",
              "      <td>1</td>\n",
              "      <td>4</td>\n",
              "      <td>0.540230</td>\n",
              "      <td>0.500000</td>\n",
              "      <td>0.0</td>\n",
              "      <td>0.0</td>\n",
              "      <td>0.343373</td>\n",
              "      <td>0.256159</td>\n",
              "      <td>0.331195</td>\n",
              "      <td>0.0</td>\n",
              "      <td>...</td>\n",
              "      <td>0.0</td>\n",
              "      <td>0.333333</td>\n",
              "      <td>0.0</td>\n",
              "      <td>0.0</td>\n",
              "      <td>0.573643</td>\n",
              "      <td>0.662386</td>\n",
              "      <td>188</td>\n",
              "      <td>0</td>\n",
              "      <td>0</td>\n",
              "      <td>0.00831</td>\n",
              "    </tr>\n",
              "    <tr>\n",
              "      <th>4</th>\n",
              "      <td>1</td>\n",
              "      <td>5</td>\n",
              "      <td>0.390805</td>\n",
              "      <td>0.333333</td>\n",
              "      <td>0.0</td>\n",
              "      <td>0.0</td>\n",
              "      <td>0.349398</td>\n",
              "      <td>0.257467</td>\n",
              "      <td>0.404625</td>\n",
              "      <td>0.0</td>\n",
              "      <td>...</td>\n",
              "      <td>0.0</td>\n",
              "      <td>0.416667</td>\n",
              "      <td>0.0</td>\n",
              "      <td>0.0</td>\n",
              "      <td>0.589147</td>\n",
              "      <td>0.704502</td>\n",
              "      <td>187</td>\n",
              "      <td>0</td>\n",
              "      <td>0</td>\n",
              "      <td>0.01108</td>\n",
              "    </tr>\n",
              "  </tbody>\n",
              "</table>\n",
              "<p>5 rows × 30 columns</p>\n",
              "</div>"
            ],
            "text/plain": [
              "   id  cycle  setting1  setting2  setting3   s1        s2        s3        s4  \\\n",
              "0   1      1  0.459770  0.166667       0.0  0.0  0.183735  0.406802  0.309757   \n",
              "1   1      2  0.609195  0.250000       0.0  0.0  0.283133  0.453019  0.352633   \n",
              "2   1      3  0.252874  0.750000       0.0  0.0  0.343373  0.369523  0.370527   \n",
              "3   1      4  0.540230  0.500000       0.0  0.0  0.343373  0.256159  0.331195   \n",
              "4   1      5  0.390805  0.333333       0.0  0.0  0.349398  0.257467  0.404625   \n",
              "\n",
              "    s5     ...      s16       s17  s18  s19       s20       s21  RUL  label1  \\\n",
              "0  0.0     ...      0.0  0.333333  0.0  0.0  0.713178  0.724662  191       0   \n",
              "1  0.0     ...      0.0  0.333333  0.0  0.0  0.666667  0.731014  190       0   \n",
              "2  0.0     ...      0.0  0.166667  0.0  0.0  0.627907  0.621375  189       0   \n",
              "3  0.0     ...      0.0  0.333333  0.0  0.0  0.573643  0.662386  188       0   \n",
              "4  0.0     ...      0.0  0.416667  0.0  0.0  0.589147  0.704502  187       0   \n",
              "\n",
              "   label2  cycle_norm  \n",
              "0       0     0.00000  \n",
              "1       0     0.00277  \n",
              "2       0     0.00554  \n",
              "3       0     0.00831  \n",
              "4       0     0.01108  \n",
              "\n",
              "[5 rows x 30 columns]"
            ]
          },
          "metadata": {
            "tags": []
          },
          "execution_count": 16
        }
      ]
    },
    {
      "metadata": {
        "id": "ud0Yhm3qv_bF",
        "colab_type": "text"
      },
      "cell_type": "markdown",
      "source": [
        "Next, we prepare the test data. We first normalize the test data using the parameters from the MinMax normalization applied on the training data."
      ]
    },
    {
      "metadata": {
        "id": "vB-xKzrFvOlp",
        "colab_type": "code",
        "outputId": "fb0c77f9-bd0f-4804-ce29-0ef281a47ac7",
        "colab": {
          "base_uri": "https://localhost:8080/",
          "height": 253
        }
      },
      "cell_type": "code",
      "source": [
        "test_df['cycle_norm'] = test_df['cycle']\n",
        "norm_test_df = pd.DataFrame(min_max_scaler.transform(test_df[cols_normalize]), \n",
        "                            columns=cols_normalize, \n",
        "                            index=test_df.index)\n",
        "test_join_df = test_df[test_df.columns.difference(cols_normalize)].join(norm_test_df)\n",
        "test_df = test_join_df.reindex(columns = test_df.columns)\n",
        "test_df = test_df.reset_index(drop=True)\n",
        "test_df.head()"
      ],
      "execution_count": 17,
      "outputs": [
        {
          "output_type": "execute_result",
          "data": {
            "text/html": [
              "<div>\n",
              "<style scoped>\n",
              "    .dataframe tbody tr th:only-of-type {\n",
              "        vertical-align: middle;\n",
              "    }\n",
              "\n",
              "    .dataframe tbody tr th {\n",
              "        vertical-align: top;\n",
              "    }\n",
              "\n",
              "    .dataframe thead th {\n",
              "        text-align: right;\n",
              "    }\n",
              "</style>\n",
              "<table border=\"1\" class=\"dataframe\">\n",
              "  <thead>\n",
              "    <tr style=\"text-align: right;\">\n",
              "      <th></th>\n",
              "      <th>id</th>\n",
              "      <th>cycle</th>\n",
              "      <th>setting1</th>\n",
              "      <th>setting2</th>\n",
              "      <th>setting3</th>\n",
              "      <th>s1</th>\n",
              "      <th>s2</th>\n",
              "      <th>s3</th>\n",
              "      <th>s4</th>\n",
              "      <th>s5</th>\n",
              "      <th>...</th>\n",
              "      <th>s13</th>\n",
              "      <th>s14</th>\n",
              "      <th>s15</th>\n",
              "      <th>s16</th>\n",
              "      <th>s17</th>\n",
              "      <th>s18</th>\n",
              "      <th>s19</th>\n",
              "      <th>s20</th>\n",
              "      <th>s21</th>\n",
              "      <th>cycle_norm</th>\n",
              "    </tr>\n",
              "  </thead>\n",
              "  <tbody>\n",
              "    <tr>\n",
              "      <th>0</th>\n",
              "      <td>1</td>\n",
              "      <td>1</td>\n",
              "      <td>0.632184</td>\n",
              "      <td>0.750000</td>\n",
              "      <td>0.0</td>\n",
              "      <td>0.0</td>\n",
              "      <td>0.545181</td>\n",
              "      <td>0.310661</td>\n",
              "      <td>0.269413</td>\n",
              "      <td>0.0</td>\n",
              "      <td>...</td>\n",
              "      <td>0.220588</td>\n",
              "      <td>0.132160</td>\n",
              "      <td>0.308965</td>\n",
              "      <td>0.0</td>\n",
              "      <td>0.333333</td>\n",
              "      <td>0.0</td>\n",
              "      <td>0.0</td>\n",
              "      <td>0.558140</td>\n",
              "      <td>0.661834</td>\n",
              "      <td>0.00000</td>\n",
              "    </tr>\n",
              "    <tr>\n",
              "      <th>1</th>\n",
              "      <td>1</td>\n",
              "      <td>2</td>\n",
              "      <td>0.344828</td>\n",
              "      <td>0.250000</td>\n",
              "      <td>0.0</td>\n",
              "      <td>0.0</td>\n",
              "      <td>0.150602</td>\n",
              "      <td>0.379551</td>\n",
              "      <td>0.222316</td>\n",
              "      <td>0.0</td>\n",
              "      <td>...</td>\n",
              "      <td>0.264706</td>\n",
              "      <td>0.204768</td>\n",
              "      <td>0.213159</td>\n",
              "      <td>0.0</td>\n",
              "      <td>0.416667</td>\n",
              "      <td>0.0</td>\n",
              "      <td>0.0</td>\n",
              "      <td>0.682171</td>\n",
              "      <td>0.686827</td>\n",
              "      <td>0.00277</td>\n",
              "    </tr>\n",
              "    <tr>\n",
              "      <th>2</th>\n",
              "      <td>1</td>\n",
              "      <td>3</td>\n",
              "      <td>0.517241</td>\n",
              "      <td>0.583333</td>\n",
              "      <td>0.0</td>\n",
              "      <td>0.0</td>\n",
              "      <td>0.376506</td>\n",
              "      <td>0.346632</td>\n",
              "      <td>0.322248</td>\n",
              "      <td>0.0</td>\n",
              "      <td>...</td>\n",
              "      <td>0.220588</td>\n",
              "      <td>0.155640</td>\n",
              "      <td>0.458638</td>\n",
              "      <td>0.0</td>\n",
              "      <td>0.416667</td>\n",
              "      <td>0.0</td>\n",
              "      <td>0.0</td>\n",
              "      <td>0.728682</td>\n",
              "      <td>0.721348</td>\n",
              "      <td>0.00554</td>\n",
              "    </tr>\n",
              "    <tr>\n",
              "      <th>3</th>\n",
              "      <td>1</td>\n",
              "      <td>4</td>\n",
              "      <td>0.741379</td>\n",
              "      <td>0.500000</td>\n",
              "      <td>0.0</td>\n",
              "      <td>0.0</td>\n",
              "      <td>0.370482</td>\n",
              "      <td>0.285154</td>\n",
              "      <td>0.408001</td>\n",
              "      <td>0.0</td>\n",
              "      <td>...</td>\n",
              "      <td>0.250000</td>\n",
              "      <td>0.170090</td>\n",
              "      <td>0.257022</td>\n",
              "      <td>0.0</td>\n",
              "      <td>0.250000</td>\n",
              "      <td>0.0</td>\n",
              "      <td>0.0</td>\n",
              "      <td>0.666667</td>\n",
              "      <td>0.662110</td>\n",
              "      <td>0.00831</td>\n",
              "    </tr>\n",
              "    <tr>\n",
              "      <th>4</th>\n",
              "      <td>1</td>\n",
              "      <td>5</td>\n",
              "      <td>0.580460</td>\n",
              "      <td>0.500000</td>\n",
              "      <td>0.0</td>\n",
              "      <td>0.0</td>\n",
              "      <td>0.391566</td>\n",
              "      <td>0.352082</td>\n",
              "      <td>0.332039</td>\n",
              "      <td>0.0</td>\n",
              "      <td>...</td>\n",
              "      <td>0.220588</td>\n",
              "      <td>0.152751</td>\n",
              "      <td>0.300885</td>\n",
              "      <td>0.0</td>\n",
              "      <td>0.166667</td>\n",
              "      <td>0.0</td>\n",
              "      <td>0.0</td>\n",
              "      <td>0.658915</td>\n",
              "      <td>0.716377</td>\n",
              "      <td>0.01108</td>\n",
              "    </tr>\n",
              "  </tbody>\n",
              "</table>\n",
              "<p>5 rows × 27 columns</p>\n",
              "</div>"
            ],
            "text/plain": [
              "   id  cycle  setting1  setting2  setting3   s1        s2        s3        s4  \\\n",
              "0   1      1  0.632184  0.750000       0.0  0.0  0.545181  0.310661  0.269413   \n",
              "1   1      2  0.344828  0.250000       0.0  0.0  0.150602  0.379551  0.222316   \n",
              "2   1      3  0.517241  0.583333       0.0  0.0  0.376506  0.346632  0.322248   \n",
              "3   1      4  0.741379  0.500000       0.0  0.0  0.370482  0.285154  0.408001   \n",
              "4   1      5  0.580460  0.500000       0.0  0.0  0.391566  0.352082  0.332039   \n",
              "\n",
              "    s5     ...           s13       s14       s15  s16       s17  s18  s19  \\\n",
              "0  0.0     ...      0.220588  0.132160  0.308965  0.0  0.333333  0.0  0.0   \n",
              "1  0.0     ...      0.264706  0.204768  0.213159  0.0  0.416667  0.0  0.0   \n",
              "2  0.0     ...      0.220588  0.155640  0.458638  0.0  0.416667  0.0  0.0   \n",
              "3  0.0     ...      0.250000  0.170090  0.257022  0.0  0.250000  0.0  0.0   \n",
              "4  0.0     ...      0.220588  0.152751  0.300885  0.0  0.166667  0.0  0.0   \n",
              "\n",
              "        s20       s21  cycle_norm  \n",
              "0  0.558140  0.661834     0.00000  \n",
              "1  0.682171  0.686827     0.00277  \n",
              "2  0.728682  0.721348     0.00554  \n",
              "3  0.666667  0.662110     0.00831  \n",
              "4  0.658915  0.716377     0.01108  \n",
              "\n",
              "[5 rows x 27 columns]"
            ]
          },
          "metadata": {
            "tags": []
          },
          "execution_count": 17
        }
      ]
    },
    {
      "metadata": {
        "id": "bAkUXO6ixcu3",
        "colab_type": "text"
      },
      "cell_type": "markdown",
      "source": [
        "Next, we use the ground truth dataset to generate labels for the test data."
      ]
    },
    {
      "metadata": {
        "id": "UQNfQ4kJxBxz",
        "colab_type": "code",
        "colab": {}
      },
      "cell_type": "code",
      "source": [
        "#generate column max for test data\n",
        "rul = pd.DataFrame(test_df.groupby('id')['cycle'].max()).reset_index()\n",
        "rul.columns = ['id', 'max']\n",
        "truth_df.columns = ['more']\n",
        "truth_df['id'] = truth_df.index + 1\n",
        "truth_df['max'] = rul['max'] + truth_df['more']\n",
        "truth_df.drop('more', axis=1, inplace=True)"
      ],
      "execution_count": 0,
      "outputs": []
    },
    {
      "metadata": {
        "id": "ezgJe9p5xgdb",
        "colab_type": "code",
        "outputId": "835aaa37-2fe3-4ad1-db32-4541c26b27e8",
        "colab": {
          "base_uri": "https://localhost:8080/",
          "height": 253
        }
      },
      "cell_type": "code",
      "source": [
        "# generate RUL for test data\n",
        "test_df = test_df.merge(truth_df, on=['id'], how='left')\n",
        "test_df['RUL'] = test_df['max'] - test_df['cycle']\n",
        "test_df.drop('max', axis=1, inplace=True)\n",
        "test_df.head()"
      ],
      "execution_count": 19,
      "outputs": [
        {
          "output_type": "execute_result",
          "data": {
            "text/html": [
              "<div>\n",
              "<style scoped>\n",
              "    .dataframe tbody tr th:only-of-type {\n",
              "        vertical-align: middle;\n",
              "    }\n",
              "\n",
              "    .dataframe tbody tr th {\n",
              "        vertical-align: top;\n",
              "    }\n",
              "\n",
              "    .dataframe thead th {\n",
              "        text-align: right;\n",
              "    }\n",
              "</style>\n",
              "<table border=\"1\" class=\"dataframe\">\n",
              "  <thead>\n",
              "    <tr style=\"text-align: right;\">\n",
              "      <th></th>\n",
              "      <th>id</th>\n",
              "      <th>cycle</th>\n",
              "      <th>setting1</th>\n",
              "      <th>setting2</th>\n",
              "      <th>setting3</th>\n",
              "      <th>s1</th>\n",
              "      <th>s2</th>\n",
              "      <th>s3</th>\n",
              "      <th>s4</th>\n",
              "      <th>s5</th>\n",
              "      <th>...</th>\n",
              "      <th>s14</th>\n",
              "      <th>s15</th>\n",
              "      <th>s16</th>\n",
              "      <th>s17</th>\n",
              "      <th>s18</th>\n",
              "      <th>s19</th>\n",
              "      <th>s20</th>\n",
              "      <th>s21</th>\n",
              "      <th>cycle_norm</th>\n",
              "      <th>RUL</th>\n",
              "    </tr>\n",
              "  </thead>\n",
              "  <tbody>\n",
              "    <tr>\n",
              "      <th>0</th>\n",
              "      <td>1</td>\n",
              "      <td>1</td>\n",
              "      <td>0.632184</td>\n",
              "      <td>0.750000</td>\n",
              "      <td>0.0</td>\n",
              "      <td>0.0</td>\n",
              "      <td>0.545181</td>\n",
              "      <td>0.310661</td>\n",
              "      <td>0.269413</td>\n",
              "      <td>0.0</td>\n",
              "      <td>...</td>\n",
              "      <td>0.132160</td>\n",
              "      <td>0.308965</td>\n",
              "      <td>0.0</td>\n",
              "      <td>0.333333</td>\n",
              "      <td>0.0</td>\n",
              "      <td>0.0</td>\n",
              "      <td>0.558140</td>\n",
              "      <td>0.661834</td>\n",
              "      <td>0.00000</td>\n",
              "      <td>142</td>\n",
              "    </tr>\n",
              "    <tr>\n",
              "      <th>1</th>\n",
              "      <td>1</td>\n",
              "      <td>2</td>\n",
              "      <td>0.344828</td>\n",
              "      <td>0.250000</td>\n",
              "      <td>0.0</td>\n",
              "      <td>0.0</td>\n",
              "      <td>0.150602</td>\n",
              "      <td>0.379551</td>\n",
              "      <td>0.222316</td>\n",
              "      <td>0.0</td>\n",
              "      <td>...</td>\n",
              "      <td>0.204768</td>\n",
              "      <td>0.213159</td>\n",
              "      <td>0.0</td>\n",
              "      <td>0.416667</td>\n",
              "      <td>0.0</td>\n",
              "      <td>0.0</td>\n",
              "      <td>0.682171</td>\n",
              "      <td>0.686827</td>\n",
              "      <td>0.00277</td>\n",
              "      <td>141</td>\n",
              "    </tr>\n",
              "    <tr>\n",
              "      <th>2</th>\n",
              "      <td>1</td>\n",
              "      <td>3</td>\n",
              "      <td>0.517241</td>\n",
              "      <td>0.583333</td>\n",
              "      <td>0.0</td>\n",
              "      <td>0.0</td>\n",
              "      <td>0.376506</td>\n",
              "      <td>0.346632</td>\n",
              "      <td>0.322248</td>\n",
              "      <td>0.0</td>\n",
              "      <td>...</td>\n",
              "      <td>0.155640</td>\n",
              "      <td>0.458638</td>\n",
              "      <td>0.0</td>\n",
              "      <td>0.416667</td>\n",
              "      <td>0.0</td>\n",
              "      <td>0.0</td>\n",
              "      <td>0.728682</td>\n",
              "      <td>0.721348</td>\n",
              "      <td>0.00554</td>\n",
              "      <td>140</td>\n",
              "    </tr>\n",
              "    <tr>\n",
              "      <th>3</th>\n",
              "      <td>1</td>\n",
              "      <td>4</td>\n",
              "      <td>0.741379</td>\n",
              "      <td>0.500000</td>\n",
              "      <td>0.0</td>\n",
              "      <td>0.0</td>\n",
              "      <td>0.370482</td>\n",
              "      <td>0.285154</td>\n",
              "      <td>0.408001</td>\n",
              "      <td>0.0</td>\n",
              "      <td>...</td>\n",
              "      <td>0.170090</td>\n",
              "      <td>0.257022</td>\n",
              "      <td>0.0</td>\n",
              "      <td>0.250000</td>\n",
              "      <td>0.0</td>\n",
              "      <td>0.0</td>\n",
              "      <td>0.666667</td>\n",
              "      <td>0.662110</td>\n",
              "      <td>0.00831</td>\n",
              "      <td>139</td>\n",
              "    </tr>\n",
              "    <tr>\n",
              "      <th>4</th>\n",
              "      <td>1</td>\n",
              "      <td>5</td>\n",
              "      <td>0.580460</td>\n",
              "      <td>0.500000</td>\n",
              "      <td>0.0</td>\n",
              "      <td>0.0</td>\n",
              "      <td>0.391566</td>\n",
              "      <td>0.352082</td>\n",
              "      <td>0.332039</td>\n",
              "      <td>0.0</td>\n",
              "      <td>...</td>\n",
              "      <td>0.152751</td>\n",
              "      <td>0.300885</td>\n",
              "      <td>0.0</td>\n",
              "      <td>0.166667</td>\n",
              "      <td>0.0</td>\n",
              "      <td>0.0</td>\n",
              "      <td>0.658915</td>\n",
              "      <td>0.716377</td>\n",
              "      <td>0.01108</td>\n",
              "      <td>138</td>\n",
              "    </tr>\n",
              "  </tbody>\n",
              "</table>\n",
              "<p>5 rows × 28 columns</p>\n",
              "</div>"
            ],
            "text/plain": [
              "   id  cycle  setting1  setting2  setting3   s1        s2        s3        s4  \\\n",
              "0   1      1  0.632184  0.750000       0.0  0.0  0.545181  0.310661  0.269413   \n",
              "1   1      2  0.344828  0.250000       0.0  0.0  0.150602  0.379551  0.222316   \n",
              "2   1      3  0.517241  0.583333       0.0  0.0  0.376506  0.346632  0.322248   \n",
              "3   1      4  0.741379  0.500000       0.0  0.0  0.370482  0.285154  0.408001   \n",
              "4   1      5  0.580460  0.500000       0.0  0.0  0.391566  0.352082  0.332039   \n",
              "\n",
              "    s5 ...        s14       s15  s16       s17  s18  s19       s20       s21  \\\n",
              "0  0.0 ...   0.132160  0.308965  0.0  0.333333  0.0  0.0  0.558140  0.661834   \n",
              "1  0.0 ...   0.204768  0.213159  0.0  0.416667  0.0  0.0  0.682171  0.686827   \n",
              "2  0.0 ...   0.155640  0.458638  0.0  0.416667  0.0  0.0  0.728682  0.721348   \n",
              "3  0.0 ...   0.170090  0.257022  0.0  0.250000  0.0  0.0  0.666667  0.662110   \n",
              "4  0.0 ...   0.152751  0.300885  0.0  0.166667  0.0  0.0  0.658915  0.716377   \n",
              "\n",
              "   cycle_norm  RUL  \n",
              "0     0.00000  142  \n",
              "1     0.00277  141  \n",
              "2     0.00554  140  \n",
              "3     0.00831  139  \n",
              "4     0.01108  138  \n",
              "\n",
              "[5 rows x 28 columns]"
            ]
          },
          "metadata": {
            "tags": []
          },
          "execution_count": 19
        }
      ]
    },
    {
      "metadata": {
        "id": "Q8WXEV8SxjKm",
        "colab_type": "code",
        "outputId": "965002d4-7cfd-4e72-8ad4-4c193c138196",
        "colab": {
          "base_uri": "https://localhost:8080/",
          "height": 253
        }
      },
      "cell_type": "code",
      "source": [
        "# generate label columns w0 and w1 for test data\n",
        "test_df['label1'] = np.where(test_df['RUL'] <= w1, 1, 0 )\n",
        "test_df['label2'] = test_df['label1']\n",
        "test_df.loc[test_df['RUL'] <= w0, 'label2'] = 2\n",
        "test_df.head()"
      ],
      "execution_count": 20,
      "outputs": [
        {
          "output_type": "execute_result",
          "data": {
            "text/html": [
              "<div>\n",
              "<style scoped>\n",
              "    .dataframe tbody tr th:only-of-type {\n",
              "        vertical-align: middle;\n",
              "    }\n",
              "\n",
              "    .dataframe tbody tr th {\n",
              "        vertical-align: top;\n",
              "    }\n",
              "\n",
              "    .dataframe thead th {\n",
              "        text-align: right;\n",
              "    }\n",
              "</style>\n",
              "<table border=\"1\" class=\"dataframe\">\n",
              "  <thead>\n",
              "    <tr style=\"text-align: right;\">\n",
              "      <th></th>\n",
              "      <th>id</th>\n",
              "      <th>cycle</th>\n",
              "      <th>setting1</th>\n",
              "      <th>setting2</th>\n",
              "      <th>setting3</th>\n",
              "      <th>s1</th>\n",
              "      <th>s2</th>\n",
              "      <th>s3</th>\n",
              "      <th>s4</th>\n",
              "      <th>s5</th>\n",
              "      <th>...</th>\n",
              "      <th>s16</th>\n",
              "      <th>s17</th>\n",
              "      <th>s18</th>\n",
              "      <th>s19</th>\n",
              "      <th>s20</th>\n",
              "      <th>s21</th>\n",
              "      <th>cycle_norm</th>\n",
              "      <th>RUL</th>\n",
              "      <th>label1</th>\n",
              "      <th>label2</th>\n",
              "    </tr>\n",
              "  </thead>\n",
              "  <tbody>\n",
              "    <tr>\n",
              "      <th>0</th>\n",
              "      <td>1</td>\n",
              "      <td>1</td>\n",
              "      <td>0.632184</td>\n",
              "      <td>0.750000</td>\n",
              "      <td>0.0</td>\n",
              "      <td>0.0</td>\n",
              "      <td>0.545181</td>\n",
              "      <td>0.310661</td>\n",
              "      <td>0.269413</td>\n",
              "      <td>0.0</td>\n",
              "      <td>...</td>\n",
              "      <td>0.0</td>\n",
              "      <td>0.333333</td>\n",
              "      <td>0.0</td>\n",
              "      <td>0.0</td>\n",
              "      <td>0.558140</td>\n",
              "      <td>0.661834</td>\n",
              "      <td>0.00000</td>\n",
              "      <td>142</td>\n",
              "      <td>0</td>\n",
              "      <td>0</td>\n",
              "    </tr>\n",
              "    <tr>\n",
              "      <th>1</th>\n",
              "      <td>1</td>\n",
              "      <td>2</td>\n",
              "      <td>0.344828</td>\n",
              "      <td>0.250000</td>\n",
              "      <td>0.0</td>\n",
              "      <td>0.0</td>\n",
              "      <td>0.150602</td>\n",
              "      <td>0.379551</td>\n",
              "      <td>0.222316</td>\n",
              "      <td>0.0</td>\n",
              "      <td>...</td>\n",
              "      <td>0.0</td>\n",
              "      <td>0.416667</td>\n",
              "      <td>0.0</td>\n",
              "      <td>0.0</td>\n",
              "      <td>0.682171</td>\n",
              "      <td>0.686827</td>\n",
              "      <td>0.00277</td>\n",
              "      <td>141</td>\n",
              "      <td>0</td>\n",
              "      <td>0</td>\n",
              "    </tr>\n",
              "    <tr>\n",
              "      <th>2</th>\n",
              "      <td>1</td>\n",
              "      <td>3</td>\n",
              "      <td>0.517241</td>\n",
              "      <td>0.583333</td>\n",
              "      <td>0.0</td>\n",
              "      <td>0.0</td>\n",
              "      <td>0.376506</td>\n",
              "      <td>0.346632</td>\n",
              "      <td>0.322248</td>\n",
              "      <td>0.0</td>\n",
              "      <td>...</td>\n",
              "      <td>0.0</td>\n",
              "      <td>0.416667</td>\n",
              "      <td>0.0</td>\n",
              "      <td>0.0</td>\n",
              "      <td>0.728682</td>\n",
              "      <td>0.721348</td>\n",
              "      <td>0.00554</td>\n",
              "      <td>140</td>\n",
              "      <td>0</td>\n",
              "      <td>0</td>\n",
              "    </tr>\n",
              "    <tr>\n",
              "      <th>3</th>\n",
              "      <td>1</td>\n",
              "      <td>4</td>\n",
              "      <td>0.741379</td>\n",
              "      <td>0.500000</td>\n",
              "      <td>0.0</td>\n",
              "      <td>0.0</td>\n",
              "      <td>0.370482</td>\n",
              "      <td>0.285154</td>\n",
              "      <td>0.408001</td>\n",
              "      <td>0.0</td>\n",
              "      <td>...</td>\n",
              "      <td>0.0</td>\n",
              "      <td>0.250000</td>\n",
              "      <td>0.0</td>\n",
              "      <td>0.0</td>\n",
              "      <td>0.666667</td>\n",
              "      <td>0.662110</td>\n",
              "      <td>0.00831</td>\n",
              "      <td>139</td>\n",
              "      <td>0</td>\n",
              "      <td>0</td>\n",
              "    </tr>\n",
              "    <tr>\n",
              "      <th>4</th>\n",
              "      <td>1</td>\n",
              "      <td>5</td>\n",
              "      <td>0.580460</td>\n",
              "      <td>0.500000</td>\n",
              "      <td>0.0</td>\n",
              "      <td>0.0</td>\n",
              "      <td>0.391566</td>\n",
              "      <td>0.352082</td>\n",
              "      <td>0.332039</td>\n",
              "      <td>0.0</td>\n",
              "      <td>...</td>\n",
              "      <td>0.0</td>\n",
              "      <td>0.166667</td>\n",
              "      <td>0.0</td>\n",
              "      <td>0.0</td>\n",
              "      <td>0.658915</td>\n",
              "      <td>0.716377</td>\n",
              "      <td>0.01108</td>\n",
              "      <td>138</td>\n",
              "      <td>0</td>\n",
              "      <td>0</td>\n",
              "    </tr>\n",
              "  </tbody>\n",
              "</table>\n",
              "<p>5 rows × 30 columns</p>\n",
              "</div>"
            ],
            "text/plain": [
              "   id  cycle  setting1  setting2  setting3   s1        s2        s3        s4  \\\n",
              "0   1      1  0.632184  0.750000       0.0  0.0  0.545181  0.310661  0.269413   \n",
              "1   1      2  0.344828  0.250000       0.0  0.0  0.150602  0.379551  0.222316   \n",
              "2   1      3  0.517241  0.583333       0.0  0.0  0.376506  0.346632  0.322248   \n",
              "3   1      4  0.741379  0.500000       0.0  0.0  0.370482  0.285154  0.408001   \n",
              "4   1      5  0.580460  0.500000       0.0  0.0  0.391566  0.352082  0.332039   \n",
              "\n",
              "    s5   ...    s16       s17  s18  s19       s20       s21  cycle_norm  RUL  \\\n",
              "0  0.0   ...    0.0  0.333333  0.0  0.0  0.558140  0.661834     0.00000  142   \n",
              "1  0.0   ...    0.0  0.416667  0.0  0.0  0.682171  0.686827     0.00277  141   \n",
              "2  0.0   ...    0.0  0.416667  0.0  0.0  0.728682  0.721348     0.00554  140   \n",
              "3  0.0   ...    0.0  0.250000  0.0  0.0  0.666667  0.662110     0.00831  139   \n",
              "4  0.0   ...    0.0  0.166667  0.0  0.0  0.658915  0.716377     0.01108  138   \n",
              "\n",
              "   label1  label2  \n",
              "0       0       0  \n",
              "1       0       0  \n",
              "2       0       0  \n",
              "3       0       0  \n",
              "4       0       0  \n",
              "\n",
              "[5 rows x 30 columns]"
            ]
          },
          "metadata": {
            "tags": []
          },
          "execution_count": 20
        }
      ]
    },
    {
      "metadata": {
        "id": "CcqA1T4KQJT-",
        "colab_type": "text"
      },
      "cell_type": "markdown",
      "source": [
        "**Modelling**"
      ]
    },
    {
      "metadata": {
        "id": "B3COL3i2RxK8",
        "colab_type": "code",
        "colab": {}
      },
      "cell_type": "code",
      "source": [
        "# pick a large window size of 50 cycles\n",
        "sequence_length = 50"
      ],
      "execution_count": 0,
      "outputs": []
    },
    {
      "metadata": {
        "id": "jIp9aahISCH9",
        "colab_type": "text"
      },
      "cell_type": "markdown",
      "source": [
        "Let's first look at an example of the sensor values 50 cycles prior to the failure for engine id 3. We will be feeding our TCN network this type of data for each time step for each engine id."
      ]
    },
    {
      "metadata": {
        "id": "Jh0_EJ1h247z",
        "colab_type": "code",
        "colab": {}
      },
      "cell_type": "code",
      "source": [
        "# preparing data for visualizations \n",
        "# window of 50 cycles prior to a failure point for engine id 3\n",
        "engine_id3 = test_df[test_df['id'] == 3]\n",
        "engine_id3_50cycleWindow = engine_id3[engine_id3['RUL'] <= engine_id3['RUL'].min() + 50]\n",
        "cols1 = ['s1', 's2', 's3', 's4', 's5', 's6', 's7', 's8', 's9', 's10']\n",
        "engine_id3_50cycleWindow1 = engine_id3_50cycleWindow[cols1]\n",
        "cols2 = ['s11', 's12', 's13', 's14', 's15', 's16', 's17', 's18', 's19', 's20', 's21']\n",
        "engine_id3_50cycleWindow2 = engine_id3_50cycleWindow[cols2]"
      ],
      "execution_count": 0,
      "outputs": []
    },
    {
      "metadata": {
        "id": "F9ooTNKYUq_P",
        "colab_type": "code",
        "outputId": "3ce90b72-66bd-47d8-a775-1b04300d215f",
        "colab": {
          "base_uri": "https://localhost:8080/",
          "height": 1034
        }
      },
      "cell_type": "code",
      "source": [
        "# plotting sensor data for engine ID 3 prior to a failure point - sensors 1-10 \n",
        "ax1 = engine_id3_50cycleWindow1.plot(subplots=True, sharex=True, figsize=(20,20))"
      ],
      "execution_count": 0,
      "outputs": [
        {
          "output_type": "display_data",
          "data": {
            "image/png": "[encoded data removed]",
            "text/plain": [
              "<Figure size 1440x1440 with 10 Axes>"
            ]
          },
          "metadata": {
            "tags": []
          }
        }
      ]
    },
    {
      "metadata": {
        "id": "Wf6MbQWjU1yK",
        "colab_type": "code",
        "colab": {}
      },
      "cell_type": "code",
      "source": [
        "# plotting sensor data for engine ID 3 prior to a failure point - sensors 11-21 \n",
        "ax2 = engine_id3_50cycleWindow2.plot(subplots=True, sharex=True, figsize=(20,20))"
      ],
      "execution_count": 0,
      "outputs": []
    },
    {
      "metadata": {
        "id": "6yECAizBU7Ay",
        "colab_type": "text"
      },
      "cell_type": "markdown",
      "source": [
        "TCN layers expect an input in the shape of a numpy array of 3 dimensions (batch_size, timesteps, input_dim) "
      ]
    },
    {
      "metadata": {
        "id": "UlTsi8wWU6UB",
        "colab_type": "code",
        "colab": {}
      },
      "cell_type": "code",
      "source": [
        "# function to reshape features into (samples, time steps, features) \n",
        "def gen_sequence(id_df, seq_length, seq_cols):\n",
        "    \"\"\" Only sequences that meet the window-length are considered, no padding is used. This means for testing\n",
        "    we need to drop those which are below the window-length. An alternative would be to pad sequences so that\n",
        "    we can use shorter ones \"\"\"\n",
        "    data_array = id_df[seq_cols].values\n",
        "    num_elements = data_array.shape[0]\n",
        "    for start, stop in zip(range(0, num_elements-seq_length), range(seq_length, num_elements)):\n",
        "        yield data_array[start:stop, :]"
      ],
      "execution_count": 0,
      "outputs": []
    },
    {
      "metadata": {
        "id": "7t9inXQgDfBf",
        "colab_type": "code",
        "colab": {}
      },
      "cell_type": "code",
      "source": [
        "# pick the feature columns \n",
        "sensor_cols = ['s' + str(i) for i in range(1,22)]\n",
        "sequence_cols = ['setting1', 'setting2', 'setting3', 'cycle_norm']\n",
        "sequence_cols.extend(sensor_cols)"
      ],
      "execution_count": 0,
      "outputs": []
    },
    {
      "metadata": {
        "id": "j82RiHavW44n",
        "colab_type": "code",
        "colab": {}
      },
      "cell_type": "code",
      "source": [
        "# generator for the sequences, note this is not a list comprehension but a generator\n",
        "seq_gen = (list(gen_sequence(train_df[train_df['id']==id], sequence_length, sequence_cols)) \n",
        "           for id in train_df['id'].unique())"
      ],
      "execution_count": 0,
      "outputs": []
    },
    {
      "metadata": {
        "id": "4NLmsDDAenpv",
        "colab_type": "code",
        "colab": {}
      },
      "cell_type": "code",
      "source": [
        "aa =list(seq_gen)"
      ],
      "execution_count": 0,
      "outputs": []
    },
    {
      "metadata": {
        "id": "Fy8qm6k3hVdw",
        "colab_type": "code",
        "outputId": "07dcfdd3-0194-441a-92f6-48eed0207a7b",
        "colab": {
          "base_uri": "https://localhost:8080/",
          "height": 34
        }
      },
      "cell_type": "code",
      "source": [
        "len(aa)"
      ],
      "execution_count": 0,
      "outputs": [
        {
          "output_type": "execute_result",
          "data": {
            "text/plain": [
              "100"
            ]
          },
          "metadata": {
            "tags": []
          },
          "execution_count": 126
        }
      ]
    },
    {
      "metadata": {
        "id": "MfZeQg8qe9-p",
        "colab_type": "code",
        "outputId": "f2c94c88-710a-48d8-8e44-04035fea031d",
        "colab": {
          "base_uri": "https://localhost:8080/",
          "height": 34
        }
      },
      "cell_type": "code",
      "source": [
        "len(aa[3])"
      ],
      "execution_count": 0,
      "outputs": [
        {
          "output_type": "execute_result",
          "data": {
            "text/plain": [
              "139"
            ]
          },
          "metadata": {
            "tags": []
          },
          "execution_count": 127
        }
      ]
    },
    {
      "metadata": {
        "id": "H1MC7IlXhSoV",
        "colab_type": "code",
        "outputId": "e7a862d9-ccc4-4b07-b29a-0ffd937944a2",
        "colab": {
          "base_uri": "https://localhost:8080/",
          "height": 34
        }
      },
      "cell_type": "code",
      "source": [
        "len(aa[0])"
      ],
      "execution_count": 0,
      "outputs": [
        {
          "output_type": "execute_result",
          "data": {
            "text/plain": [
              "142"
            ]
          },
          "metadata": {
            "tags": []
          },
          "execution_count": 125
        }
      ]
    },
    {
      "metadata": {
        "id": "Kda-eWQ2he9G",
        "colab_type": "code",
        "outputId": "4844ac27-902b-4b55-fd0a-023706ee7a6e",
        "colab": {
          "base_uri": "https://localhost:8080/",
          "height": 34
        }
      },
      "cell_type": "code",
      "source": [
        "aa[0][5].shape"
      ],
      "execution_count": 0,
      "outputs": [
        {
          "output_type": "execute_result",
          "data": {
            "text/plain": [
              "(50, 25)"
            ]
          },
          "metadata": {
            "tags": []
          },
          "execution_count": 135
        }
      ]
    },
    {
      "metadata": {
        "id": "FjZjki62W7xa",
        "colab_type": "code",
        "outputId": "6d0db3fd-c39b-4c83-df62-9c5383466474",
        "colab": {
          "base_uri": "https://localhost:8080/",
          "height": 34
        }
      },
      "cell_type": "code",
      "source": [
        "# generate sequences and convert to numpy array\n",
        "seq_array = np.concatenate(list(seq_gen)).astype(np.float32)\n",
        "seq_array.shape"
      ],
      "execution_count": 26,
      "outputs": [
        {
          "output_type": "execute_result",
          "data": {
            "text/plain": [
              "(15631, 50, 25)"
            ]
          },
          "metadata": {
            "tags": []
          },
          "execution_count": 26
        }
      ]
    },
    {
      "metadata": {
        "id": "iX2T1RUMoUVP",
        "colab_type": "text"
      },
      "cell_type": "markdown",
      "source": [
        "Since for lookback window of size 50 we will pick label (RUL) from the 50th row onwards"
      ]
    },
    {
      "metadata": {
        "id": "oa0iK6FmNFX1",
        "colab_type": "code",
        "colab": {}
      },
      "cell_type": "code",
      "source": [
        "# function to generate labels\n",
        "def gen_labels(id_df, seq_length, label):\n",
        "    data_array = id_df[label].values\n",
        "    num_elements = data_array.shape[0]\n",
        "    return data_array[seq_length:num_elements, :]"
      ],
      "execution_count": 0,
      "outputs": []
    },
    {
      "metadata": {
        "id": "tDrYevg1lv25",
        "colab_type": "code",
        "outputId": "e736ff48-a861-414e-9acd-808d751cf485",
        "colab": {
          "base_uri": "https://localhost:8080/",
          "height": 34
        }
      },
      "cell_type": "code",
      "source": [
        "# generate labels\n",
        "label_gen = [gen_labels(train_df[train_df['id']==id], sequence_length, ['label1']) \n",
        "             for id in train_df['id'].unique()]\n",
        "label_array = np.concatenate(label_gen).astype(np.float32)\n",
        "label_array.shape"
      ],
      "execution_count": 28,
      "outputs": [
        {
          "output_type": "execute_result",
          "data": {
            "text/plain": [
              "(15631, 1)"
            ]
          },
          "metadata": {
            "tags": []
          },
          "execution_count": 28
        }
      ]
    },
    {
      "metadata": {
        "id": "oGZBelLb2xGp",
        "colab_type": "text"
      },
      "cell_type": "markdown",
      "source": [
        "### Tip!\n",
        "len(train_df) = 20631,\n",
        "(label_array.shape[0]) = 15631,\n",
        "window_length = 50,\n",
        "Total Number of ids = 100,\n",
        "20631-50*100 = 15631"
      ]
    },
    {
      "metadata": {
        "id": "osL3dOuDmPnN",
        "colab_type": "text"
      },
      "cell_type": "markdown",
      "source": [
        "## **TCN Network**"
      ]
    },
    {
      "metadata": {
        "id": "DRZtTeMXmbWZ",
        "colab_type": "text"
      },
      "cell_type": "markdown",
      "source": [
        "Next, we build a deep Network using TCN"
      ]
    },
    {
      "metadata": {
        "id": "jj8i60IOwx_k",
        "colab_type": "code",
        "colab": {}
      },
      "cell_type": "code",
      "source": [
        "from keras.models import Input, Model\n",
        "from tcn import TCN"
      ],
      "execution_count": 0,
      "outputs": []
    },
    {
      "metadata": {
        "id": "bfUCvK-GxaFY",
        "colab_type": "code",
        "colab": {}
      },
      "cell_type": "code",
      "source": [
        "batch_size, timesteps, input_dim = None, 50, 25"
      ],
      "execution_count": 0,
      "outputs": []
    },
    {
      "metadata": {
        "id": "Wm5hyAjiyO3g",
        "colab_type": "code",
        "colab": {}
      },
      "cell_type": "code",
      "source": [
        "nb_out = label_array.shape[1]"
      ],
      "execution_count": 0,
      "outputs": []
    },
    {
      "metadata": {
        "id": "EFagE-mTyVP2",
        "colab_type": "code",
        "outputId": "2588ad0c-63e7-4251-bf21-4880248b2641",
        "colab": {
          "base_uri": "https://localhost:8080/",
          "height": 34
        }
      },
      "cell_type": "code",
      "source": [
        "nb_out"
      ],
      "execution_count": 41,
      "outputs": [
        {
          "output_type": "execute_result",
          "data": {
            "text/plain": [
              "1"
            ]
          },
          "metadata": {
            "tags": []
          },
          "execution_count": 41
        }
      ]
    },
    {
      "metadata": {
        "id": "Ay_qou1hwyo2",
        "colab_type": "code",
        "colab": {}
      },
      "cell_type": "code",
      "source": [
        "i = Input(batch_shape=(batch_size, timesteps, input_dim))"
      ],
      "execution_count": 0,
      "outputs": []
    },
    {
      "metadata": {
        "id": "zEy0mGfzwysB",
        "colab_type": "code",
        "colab": {}
      },
      "cell_type": "code",
      "source": [
        "o = TCN(return_sequences=True)(i)\n",
        "# o = TCN(return_sequences=False)(o)\n",
        "o = TCN(return_sequences=False)(o)  # The TCN layers are here.\n",
        "o = Dense(1,activation='sigmoid')(o)"
      ],
      "execution_count": 0,
      "outputs": []
    },
    {
      "metadata": {
        "id": "txOJLhQKwyvI",
        "colab_type": "code",
        "colab": {}
      },
      "cell_type": "code",
      "source": [
        "m = Model(inputs=[i], outputs=[o])\n",
        "m.compile(optimizer='adam', loss='binary_crossentropy',metrics=['accuracy'])"
      ],
      "execution_count": 0,
      "outputs": []
    },
    {
      "metadata": {
        "id": "U4kTjGs8ADK5",
        "colab_type": "code",
        "colab": {
          "base_uri": "https://localhost:8080/",
          "height": 3842
        },
        "outputId": "8e816b09-a333-4dd3-9479-d1991da3f1cf"
      },
      "cell_type": "code",
      "source": [
        "m.summary()"
      ],
      "execution_count": 51,
      "outputs": [
        {
          "output_type": "stream",
          "text": [
            "__________________________________________________________________________________________________\n",
            "Layer (type)                    Output Shape         Param #     Connected to                     \n",
            "==================================================================================================\n",
            "input_1 (InputLayer)            (None, 50, 25)       0                                            \n",
            "__________________________________________________________________________________________________\n",
            "conv1d_1 (Conv1D)               (None, 50, 64)       1664        input_1[0][0]                    \n",
            "__________________________________________________________________________________________________\n",
            "conv1d_2 (Conv1D)               (None, 50, 64)       8256        conv1d_1[0][0]                   \n",
            "__________________________________________________________________________________________________\n",
            "activation_1 (Activation)       (None, 50, 64)       0           conv1d_2[0][0]                   \n",
            "__________________________________________________________________________________________________\n",
            "spatial_dropout1d_1 (SpatialDro (None, 50, 64)       0           activation_1[0][0]               \n",
            "__________________________________________________________________________________________________\n",
            "conv1d_3 (Conv1D)               (None, 50, 64)       8256        spatial_dropout1d_1[0][0]        \n",
            "__________________________________________________________________________________________________\n",
            "activation_2 (Activation)       (None, 50, 64)       0           conv1d_3[0][0]                   \n",
            "__________________________________________________________________________________________________\n",
            "spatial_dropout1d_2 (SpatialDro (None, 50, 64)       0           activation_2[0][0]               \n",
            "__________________________________________________________________________________________________\n",
            "conv1d_4 (Conv1D)               (None, 50, 64)       4160        conv1d_1[0][0]                   \n",
            "__________________________________________________________________________________________________\n",
            "add_1 (Add)                     (None, 50, 64)       0           conv1d_4[0][0]                   \n",
            "                                                                 spatial_dropout1d_2[0][0]        \n",
            "__________________________________________________________________________________________________\n",
            "conv1d_5 (Conv1D)               (None, 50, 64)       8256        add_1[0][0]                      \n",
            "__________________________________________________________________________________________________\n",
            "activation_3 (Activation)       (None, 50, 64)       0           conv1d_5[0][0]                   \n",
            "__________________________________________________________________________________________________\n",
            "spatial_dropout1d_3 (SpatialDro (None, 50, 64)       0           activation_3[0][0]               \n",
            "__________________________________________________________________________________________________\n",
            "conv1d_6 (Conv1D)               (None, 50, 64)       8256        spatial_dropout1d_3[0][0]        \n",
            "__________________________________________________________________________________________________\n",
            "activation_4 (Activation)       (None, 50, 64)       0           conv1d_6[0][0]                   \n",
            "__________________________________________________________________________________________________\n",
            "spatial_dropout1d_4 (SpatialDro (None, 50, 64)       0           activation_4[0][0]               \n",
            "__________________________________________________________________________________________________\n",
            "conv1d_7 (Conv1D)               (None, 50, 64)       4160        add_1[0][0]                      \n",
            "__________________________________________________________________________________________________\n",
            "add_2 (Add)                     (None, 50, 64)       0           conv1d_7[0][0]                   \n",
            "                                                                 spatial_dropout1d_4[0][0]        \n",
            "__________________________________________________________________________________________________\n",
            "conv1d_8 (Conv1D)               (None, 50, 64)       8256        add_2[0][0]                      \n",
            "__________________________________________________________________________________________________\n",
            "activation_5 (Activation)       (None, 50, 64)       0           conv1d_8[0][0]                   \n",
            "__________________________________________________________________________________________________\n",
            "spatial_dropout1d_5 (SpatialDro (None, 50, 64)       0           activation_5[0][0]               \n",
            "__________________________________________________________________________________________________\n",
            "conv1d_9 (Conv1D)               (None, 50, 64)       8256        spatial_dropout1d_5[0][0]        \n",
            "__________________________________________________________________________________________________\n",
            "activation_6 (Activation)       (None, 50, 64)       0           conv1d_9[0][0]                   \n",
            "__________________________________________________________________________________________________\n",
            "spatial_dropout1d_6 (SpatialDro (None, 50, 64)       0           activation_6[0][0]               \n",
            "__________________________________________________________________________________________________\n",
            "conv1d_10 (Conv1D)              (None, 50, 64)       4160        add_2[0][0]                      \n",
            "__________________________________________________________________________________________________\n",
            "add_3 (Add)                     (None, 50, 64)       0           conv1d_10[0][0]                  \n",
            "                                                                 spatial_dropout1d_6[0][0]        \n",
            "__________________________________________________________________________________________________\n",
            "conv1d_11 (Conv1D)              (None, 50, 64)       8256        add_3[0][0]                      \n",
            "__________________________________________________________________________________________________\n",
            "activation_7 (Activation)       (None, 50, 64)       0           conv1d_11[0][0]                  \n",
            "__________________________________________________________________________________________________\n",
            "spatial_dropout1d_7 (SpatialDro (None, 50, 64)       0           activation_7[0][0]               \n",
            "__________________________________________________________________________________________________\n",
            "conv1d_12 (Conv1D)              (None, 50, 64)       8256        spatial_dropout1d_7[0][0]        \n",
            "__________________________________________________________________________________________________\n",
            "activation_8 (Activation)       (None, 50, 64)       0           conv1d_12[0][0]                  \n",
            "__________________________________________________________________________________________________\n",
            "spatial_dropout1d_8 (SpatialDro (None, 50, 64)       0           activation_8[0][0]               \n",
            "__________________________________________________________________________________________________\n",
            "conv1d_13 (Conv1D)              (None, 50, 64)       4160        add_3[0][0]                      \n",
            "__________________________________________________________________________________________________\n",
            "add_4 (Add)                     (None, 50, 64)       0           conv1d_13[0][0]                  \n",
            "                                                                 spatial_dropout1d_8[0][0]        \n",
            "__________________________________________________________________________________________________\n",
            "conv1d_14 (Conv1D)              (None, 50, 64)       8256        add_4[0][0]                      \n",
            "__________________________________________________________________________________________________\n",
            "activation_9 (Activation)       (None, 50, 64)       0           conv1d_14[0][0]                  \n",
            "__________________________________________________________________________________________________\n",
            "spatial_dropout1d_9 (SpatialDro (None, 50, 64)       0           activation_9[0][0]               \n",
            "__________________________________________________________________________________________________\n",
            "conv1d_15 (Conv1D)              (None, 50, 64)       8256        spatial_dropout1d_9[0][0]        \n",
            "__________________________________________________________________________________________________\n",
            "activation_10 (Activation)      (None, 50, 64)       0           conv1d_15[0][0]                  \n",
            "__________________________________________________________________________________________________\n",
            "spatial_dropout1d_10 (SpatialDr (None, 50, 64)       0           activation_10[0][0]              \n",
            "__________________________________________________________________________________________________\n",
            "conv1d_16 (Conv1D)              (None, 50, 64)       4160        add_4[0][0]                      \n",
            "__________________________________________________________________________________________________\n",
            "add_5 (Add)                     (None, 50, 64)       0           conv1d_16[0][0]                  \n",
            "                                                                 spatial_dropout1d_10[0][0]       \n",
            "__________________________________________________________________________________________________\n",
            "conv1d_17 (Conv1D)              (None, 50, 64)       8256        add_5[0][0]                      \n",
            "__________________________________________________________________________________________________\n",
            "activation_11 (Activation)      (None, 50, 64)       0           conv1d_17[0][0]                  \n",
            "__________________________________________________________________________________________________\n",
            "spatial_dropout1d_11 (SpatialDr (None, 50, 64)       0           activation_11[0][0]              \n",
            "__________________________________________________________________________________________________\n",
            "conv1d_18 (Conv1D)              (None, 50, 64)       8256        spatial_dropout1d_11[0][0]       \n",
            "__________________________________________________________________________________________________\n",
            "activation_12 (Activation)      (None, 50, 64)       0           conv1d_18[0][0]                  \n",
            "__________________________________________________________________________________________________\n",
            "spatial_dropout1d_12 (SpatialDr (None, 50, 64)       0           activation_12[0][0]              \n",
            "__________________________________________________________________________________________________\n",
            "add_7 (Add)                     (None, 50, 64)       0           spatial_dropout1d_2[0][0]        \n",
            "                                                                 spatial_dropout1d_4[0][0]        \n",
            "                                                                 spatial_dropout1d_6[0][0]        \n",
            "                                                                 spatial_dropout1d_8[0][0]        \n",
            "                                                                 spatial_dropout1d_10[0][0]       \n",
            "                                                                 spatial_dropout1d_12[0][0]       \n",
            "__________________________________________________________________________________________________\n",
            "conv1d_20 (Conv1D)              (None, 50, 64)       4160        add_7[0][0]                      \n",
            "__________________________________________________________________________________________________\n",
            "conv1d_21 (Conv1D)              (None, 50, 64)       8256        conv1d_20[0][0]                  \n",
            "__________________________________________________________________________________________________\n",
            "activation_13 (Activation)      (None, 50, 64)       0           conv1d_21[0][0]                  \n",
            "__________________________________________________________________________________________________\n",
            "spatial_dropout1d_13 (SpatialDr (None, 50, 64)       0           activation_13[0][0]              \n",
            "__________________________________________________________________________________________________\n",
            "conv1d_22 (Conv1D)              (None, 50, 64)       8256        spatial_dropout1d_13[0][0]       \n",
            "__________________________________________________________________________________________________\n",
            "activation_14 (Activation)      (None, 50, 64)       0           conv1d_22[0][0]                  \n",
            "__________________________________________________________________________________________________\n",
            "spatial_dropout1d_14 (SpatialDr (None, 50, 64)       0           activation_14[0][0]              \n",
            "__________________________________________________________________________________________________\n",
            "conv1d_23 (Conv1D)              (None, 50, 64)       4160        conv1d_20[0][0]                  \n",
            "__________________________________________________________________________________________________\n",
            "add_8 (Add)                     (None, 50, 64)       0           conv1d_23[0][0]                  \n",
            "                                                                 spatial_dropout1d_14[0][0]       \n",
            "__________________________________________________________________________________________________\n",
            "conv1d_24 (Conv1D)              (None, 50, 64)       8256        add_8[0][0]                      \n",
            "__________________________________________________________________________________________________\n",
            "activation_15 (Activation)      (None, 50, 64)       0           conv1d_24[0][0]                  \n",
            "__________________________________________________________________________________________________\n",
            "spatial_dropout1d_15 (SpatialDr (None, 50, 64)       0           activation_15[0][0]              \n",
            "__________________________________________________________________________________________________\n",
            "conv1d_25 (Conv1D)              (None, 50, 64)       8256        spatial_dropout1d_15[0][0]       \n",
            "__________________________________________________________________________________________________\n",
            "activation_16 (Activation)      (None, 50, 64)       0           conv1d_25[0][0]                  \n",
            "__________________________________________________________________________________________________\n",
            "spatial_dropout1d_16 (SpatialDr (None, 50, 64)       0           activation_16[0][0]              \n",
            "__________________________________________________________________________________________________\n",
            "conv1d_26 (Conv1D)              (None, 50, 64)       4160        add_8[0][0]                      \n",
            "__________________________________________________________________________________________________\n",
            "add_9 (Add)                     (None, 50, 64)       0           conv1d_26[0][0]                  \n",
            "                                                                 spatial_dropout1d_16[0][0]       \n",
            "__________________________________________________________________________________________________\n",
            "conv1d_27 (Conv1D)              (None, 50, 64)       8256        add_9[0][0]                      \n",
            "__________________________________________________________________________________________________\n",
            "activation_17 (Activation)      (None, 50, 64)       0           conv1d_27[0][0]                  \n",
            "__________________________________________________________________________________________________\n",
            "spatial_dropout1d_17 (SpatialDr (None, 50, 64)       0           activation_17[0][0]              \n",
            "__________________________________________________________________________________________________\n",
            "conv1d_28 (Conv1D)              (None, 50, 64)       8256        spatial_dropout1d_17[0][0]       \n",
            "__________________________________________________________________________________________________\n",
            "activation_18 (Activation)      (None, 50, 64)       0           conv1d_28[0][0]                  \n",
            "__________________________________________________________________________________________________\n",
            "spatial_dropout1d_18 (SpatialDr (None, 50, 64)       0           activation_18[0][0]              \n",
            "__________________________________________________________________________________________________\n",
            "conv1d_29 (Conv1D)              (None, 50, 64)       4160        add_9[0][0]                      \n",
            "__________________________________________________________________________________________________\n",
            "add_10 (Add)                    (None, 50, 64)       0           conv1d_29[0][0]                  \n",
            "                                                                 spatial_dropout1d_18[0][0]       \n",
            "__________________________________________________________________________________________________\n",
            "conv1d_30 (Conv1D)              (None, 50, 64)       8256        add_10[0][0]                     \n",
            "__________________________________________________________________________________________________\n",
            "activation_19 (Activation)      (None, 50, 64)       0           conv1d_30[0][0]                  \n",
            "__________________________________________________________________________________________________\n",
            "spatial_dropout1d_19 (SpatialDr (None, 50, 64)       0           activation_19[0][0]              \n",
            "__________________________________________________________________________________________________\n",
            "conv1d_31 (Conv1D)              (None, 50, 64)       8256        spatial_dropout1d_19[0][0]       \n",
            "__________________________________________________________________________________________________\n",
            "activation_20 (Activation)      (None, 50, 64)       0           conv1d_31[0][0]                  \n",
            "__________________________________________________________________________________________________\n",
            "spatial_dropout1d_20 (SpatialDr (None, 50, 64)       0           activation_20[0][0]              \n",
            "__________________________________________________________________________________________________\n",
            "conv1d_32 (Conv1D)              (None, 50, 64)       4160        add_10[0][0]                     \n",
            "__________________________________________________________________________________________________\n",
            "add_11 (Add)                    (None, 50, 64)       0           conv1d_32[0][0]                  \n",
            "                                                                 spatial_dropout1d_20[0][0]       \n",
            "__________________________________________________________________________________________________\n",
            "conv1d_33 (Conv1D)              (None, 50, 64)       8256        add_11[0][0]                     \n",
            "__________________________________________________________________________________________________\n",
            "activation_21 (Activation)      (None, 50, 64)       0           conv1d_33[0][0]                  \n",
            "__________________________________________________________________________________________________\n",
            "spatial_dropout1d_21 (SpatialDr (None, 50, 64)       0           activation_21[0][0]              \n",
            "__________________________________________________________________________________________________\n",
            "conv1d_34 (Conv1D)              (None, 50, 64)       8256        spatial_dropout1d_21[0][0]       \n",
            "__________________________________________________________________________________________________\n",
            "activation_22 (Activation)      (None, 50, 64)       0           conv1d_34[0][0]                  \n",
            "__________________________________________________________________________________________________\n",
            "spatial_dropout1d_22 (SpatialDr (None, 50, 64)       0           activation_22[0][0]              \n",
            "__________________________________________________________________________________________________\n",
            "conv1d_35 (Conv1D)              (None, 50, 64)       4160        add_11[0][0]                     \n",
            "__________________________________________________________________________________________________\n",
            "add_12 (Add)                    (None, 50, 64)       0           conv1d_35[0][0]                  \n",
            "                                                                 spatial_dropout1d_22[0][0]       \n",
            "__________________________________________________________________________________________________\n",
            "conv1d_36 (Conv1D)              (None, 50, 64)       8256        add_12[0][0]                     \n",
            "__________________________________________________________________________________________________\n",
            "activation_23 (Activation)      (None, 50, 64)       0           conv1d_36[0][0]                  \n",
            "__________________________________________________________________________________________________\n",
            "spatial_dropout1d_23 (SpatialDr (None, 50, 64)       0           activation_23[0][0]              \n",
            "__________________________________________________________________________________________________\n",
            "conv1d_37 (Conv1D)              (None, 50, 64)       8256        spatial_dropout1d_23[0][0]       \n",
            "__________________________________________________________________________________________________\n",
            "activation_24 (Activation)      (None, 50, 64)       0           conv1d_37[0][0]                  \n",
            "__________________________________________________________________________________________________\n",
            "spatial_dropout1d_24 (SpatialDr (None, 50, 64)       0           activation_24[0][0]              \n",
            "__________________________________________________________________________________________________\n",
            "add_14 (Add)                    (None, 50, 64)       0           spatial_dropout1d_14[0][0]       \n",
            "                                                                 spatial_dropout1d_16[0][0]       \n",
            "                                                                 spatial_dropout1d_18[0][0]       \n",
            "                                                                 spatial_dropout1d_20[0][0]       \n",
            "                                                                 spatial_dropout1d_22[0][0]       \n",
            "                                                                 spatial_dropout1d_24[0][0]       \n",
            "__________________________________________________________________________________________________\n",
            "lambda_1 (Lambda)               (None, 64)           0           add_14[0][0]                     \n",
            "__________________________________________________________________________________________________\n",
            "dense_1 (Dense)                 (None, 1)            65          lambda_1[0][0]                   \n",
            "==================================================================================================\n",
            "Total params: 245,633\n",
            "Trainable params: 245,633\n",
            "Non-trainable params: 0\n",
            "__________________________________________________________________________________________________\n"
          ],
          "name": "stdout"
        }
      ]
    },
    {
      "metadata": {
        "id": "0JhVSVccyfbc",
        "colab_type": "code",
        "outputId": "c12afcb6-1028-4ec6-b236-a6e610754826",
        "colab": {
          "base_uri": "https://localhost:8080/",
          "height": 836
        }
      },
      "cell_type": "code",
      "source": [
        "%%time\n",
        "# fit the network\n",
        "m.fit(seq_array, label_array, epochs=10, batch_size=200, validation_split=0.4, verbose=1)"
      ],
      "execution_count": 35,
      "outputs": [
        {
          "output_type": "stream",
          "text": [
            "WARNING:tensorflow:From /usr/local/lib/python3.6/dist-packages/tensorflow/python/ops/math_ops.py:3066: to_int32 (from tensorflow.python.ops.math_ops) is deprecated and will be removed in a future version.\n",
            "Instructions for updating:\n",
            "Use tf.cast instead.\n",
            "Train on 9378 samples, validate on 6253 samples\n",
            "Epoch 1/20\n",
            "9378/9378 [==============================] - 56s 6ms/step - loss: 0.2798 - acc: 0.8790 - val_loss: 0.2512 - val_acc: 0.9087\n",
            "Epoch 2/20\n",
            "9378/9378 [==============================] - 53s 6ms/step - loss: 0.0958 - acc: 0.9617 - val_loss: 0.1034 - val_acc: 0.9519\n",
            "Epoch 3/20\n",
            "9378/9378 [==============================] - 52s 6ms/step - loss: 0.0676 - acc: 0.9708 - val_loss: 0.0941 - val_acc: 0.9584\n",
            "Epoch 4/20\n",
            "9378/9378 [==============================] - 52s 6ms/step - loss: 0.0703 - acc: 0.9691 - val_loss: 0.0558 - val_acc: 0.9762\n",
            "Epoch 5/20\n",
            "9378/9378 [==============================] - 52s 6ms/step - loss: 0.0690 - acc: 0.9696 - val_loss: 0.0601 - val_acc: 0.9747\n",
            "Epoch 6/20\n",
            "9378/9378 [==============================] - 53s 6ms/step - loss: 0.0547 - acc: 0.9750 - val_loss: 0.0532 - val_acc: 0.9762\n",
            "Epoch 7/20\n",
            "9378/9378 [==============================] - 52s 6ms/step - loss: 0.0426 - acc: 0.9826 - val_loss: 0.0492 - val_acc: 0.9789\n",
            "Epoch 8/20\n",
            "9378/9378 [==============================] - 52s 5ms/step - loss: 0.0576 - acc: 0.9771 - val_loss: 0.0954 - val_acc: 0.9570\n",
            "Epoch 9/20\n",
            "9378/9378 [==============================] - 52s 6ms/step - loss: 0.0621 - acc: 0.9737 - val_loss: 0.0698 - val_acc: 0.9717\n",
            "Epoch 10/20\n",
            "9378/9378 [==============================] - 52s 6ms/step - loss: 0.0427 - acc: 0.9827 - val_loss: 0.0694 - val_acc: 0.9755\n",
            "Epoch 11/20\n",
            "9378/9378 [==============================] - 52s 6ms/step - loss: 0.0405 - acc: 0.9830 - val_loss: 0.0934 - val_acc: 0.9675\n",
            "Epoch 12/20\n",
            "9378/9378 [==============================] - 52s 6ms/step - loss: 0.0397 - acc: 0.9827 - val_loss: 0.0566 - val_acc: 0.9763\n",
            "Epoch 13/20\n",
            "9378/9378 [==============================] - 52s 6ms/step - loss: 0.0396 - acc: 0.9836 - val_loss: 0.0616 - val_acc: 0.9743\n",
            "Epoch 14/20\n",
            "9378/9378 [==============================] - 52s 6ms/step - loss: 0.0321 - acc: 0.9862 - val_loss: 0.0881 - val_acc: 0.9725\n",
            "Epoch 15/20\n",
            "9378/9378 [==============================] - 52s 6ms/step - loss: 0.0326 - acc: 0.9865 - val_loss: 0.0688 - val_acc: 0.9752\n",
            "Epoch 16/20\n",
            "9378/9378 [==============================] - 52s 6ms/step - loss: 0.0312 - acc: 0.9859 - val_loss: 0.0685 - val_acc: 0.9751\n",
            "Epoch 17/20\n",
            "9378/9378 [==============================] - 52s 6ms/step - loss: 0.0243 - acc: 0.9894 - val_loss: 0.0773 - val_acc: 0.9767\n",
            "Epoch 18/20\n",
            "9378/9378 [==============================] - 52s 6ms/step - loss: 0.0284 - acc: 0.9890 - val_loss: 0.0780 - val_acc: 0.9728\n",
            "Epoch 19/20\n",
            "9378/9378 [==============================] - 52s 6ms/step - loss: 0.0336 - acc: 0.9872 - val_loss: 0.0769 - val_acc: 0.9706\n",
            "Epoch 20/20\n",
            "9378/9378 [==============================] - 52s 6ms/step - loss: 0.0266 - acc: 0.9888 - val_loss: 0.0786 - val_acc: 0.9760\n",
            "CPU times: user 30min 55s, sys: 1min 1s, total: 31min 57s\n",
            "Wall time: 17min 27s\n"
          ],
          "name": "stdout"
        },
        {
          "output_type": "execute_result",
          "data": {
            "text/plain": [
              "<keras.callbacks.History at 0x7feceda1fb38>"
            ]
          },
          "metadata": {
            "tags": []
          },
          "execution_count": 35
        }
      ]
    },
    {
      "metadata": {
        "id": "xMiLGTQByfeL",
        "colab_type": "code",
        "outputId": "5572b13b-6020-4d40-a995-5090045231db",
        "colab": {
          "base_uri": "https://localhost:8080/",
          "height": 51
        }
      },
      "cell_type": "code",
      "source": [
        "# training metrics\n",
        "scores = m.evaluate(seq_array, label_array, verbose=1, batch_size=200)\n",
        "print('Accurracy: {}'.format(scores[1]))"
      ],
      "execution_count": 36,
      "outputs": [
        {
          "output_type": "stream",
          "text": [
            "15631/15631 [==============================] - 22s 1ms/step\n",
            "Accurracy: 0.9856695066631035\n"
          ],
          "name": "stdout"
        }
      ]
    },
    {
      "metadata": {
        "id": "RRJb8CecyfhX",
        "colab_type": "code",
        "outputId": "ec37094d-d0a3-4871-be74-93d44b4d197a",
        "colab": {
          "base_uri": "https://localhost:8080/",
          "height": 119
        }
      },
      "cell_type": "code",
      "source": [
        "# make predictions and compute confusion matrix\n",
        "y_prob = m.predict(seq_array,verbose=1, batch_size=200)\n",
        "y_pred = np.where(y_prob>0.5,1,0)\n",
        "y_true = label_array\n",
        "print('Confusion matrix\\n- x-axis is true labels.\\n- y-axis is predicted labels')\n",
        "cm = confusion_matrix(y_true, y_pred)\n",
        "cm"
      ],
      "execution_count": 37,
      "outputs": [
        {
          "output_type": "stream",
          "text": [
            "15631/15631 [==============================] - 23s 1ms/step\n",
            "Confusion matrix\n",
            "- x-axis is true labels.\n",
            "- y-axis is predicted labels\n"
          ],
          "name": "stdout"
        },
        {
          "output_type": "execute_result",
          "data": {
            "text/plain": [
              "array([[12391,   140],\n",
              "       [   84,  3016]])"
            ]
          },
          "metadata": {
            "tags": []
          },
          "execution_count": 37
        }
      ]
    },
    {
      "metadata": {
        "id": "45bxzu0u_QUt",
        "colab_type": "code",
        "outputId": "70ef819c-5047-4c3a-9df9-b77d1fcff82d",
        "colab": {
          "base_uri": "https://localhost:8080/",
          "height": 51
        }
      },
      "cell_type": "code",
      "source": [
        "# compute precision and recall\n",
        "precision = precision_score(y_true, y_pred)\n",
        "recall = recall_score(y_true, y_pred)\n",
        "print( 'precision = ', precision, '\\n', 'recall = ', recall)"
      ],
      "execution_count": 38,
      "outputs": [
        {
          "output_type": "stream",
          "text": [
            "precision =  0.9556400506970849 \n",
            " recall =  0.9729032258064516\n"
          ],
          "name": "stdout"
        }
      ]
    },
    {
      "metadata": {
        "id": "1Q3upmW1-fS5",
        "colab_type": "code",
        "colab": {}
      },
      "cell_type": "code",
      "source": [
        "# Test set performance"
      ],
      "execution_count": 0,
      "outputs": []
    },
    {
      "metadata": {
        "id": "DqE4WCc7-fVz",
        "colab_type": "code",
        "outputId": "18345701-1a4c-438b-d963-dc996dfd2226",
        "colab": {
          "base_uri": "https://localhost:8080/",
          "height": 34
        }
      },
      "cell_type": "code",
      "source": [
        "seq_array_test_last = [test_df[test_df['id']==id][sequence_cols].values[-sequence_length:] \n",
        "                       for id in test_df['id'].unique() if len(test_df[test_df['id']==id]) >= sequence_length]\n",
        "seq_array_test_last = np.asarray(seq_array_test_last).astype(np.float32)\n",
        "seq_array_test_last.shape"
      ],
      "execution_count": 39,
      "outputs": [
        {
          "output_type": "execute_result",
          "data": {
            "text/plain": [
              "(93, 50, 25)"
            ]
          },
          "metadata": {
            "tags": []
          },
          "execution_count": 39
        }
      ]
    },
    {
      "metadata": {
        "id": "UPJqgVTp-fZE",
        "colab_type": "code",
        "colab": {}
      },
      "cell_type": "code",
      "source": [
        "y_mask = [len(test_df[test_df['id']==id]) >= sequence_length for id in test_df['id'].unique()]"
      ],
      "execution_count": 0,
      "outputs": []
    },
    {
      "metadata": {
        "id": "5OsfA4CJ-fb5",
        "colab_type": "code",
        "outputId": "6125085b-e140-4dcc-fb93-e11c62a53cff",
        "colab": {
          "base_uri": "https://localhost:8080/",
          "height": 34
        }
      },
      "cell_type": "code",
      "source": [
        "label_array_test_last = test_df.groupby('id')['label1'].nth(-1)[y_mask].values\n",
        "label_array_test_last = label_array_test_last.reshape(label_array_test_last.shape[0],1).astype(np.float32)\n",
        "label_array_test_last.shape"
      ],
      "execution_count": 41,
      "outputs": [
        {
          "output_type": "execute_result",
          "data": {
            "text/plain": [
              "(93, 1)"
            ]
          },
          "metadata": {
            "tags": []
          },
          "execution_count": 41
        }
      ]
    },
    {
      "metadata": {
        "id": "JdTB8ipr-fe9",
        "colab_type": "code",
        "outputId": "40c16ce7-80b3-4742-e557-14b9f755576d",
        "colab": {
          "base_uri": "https://localhost:8080/",
          "height": 34
        }
      },
      "cell_type": "code",
      "source": [
        "# test metrics\n",
        "scores_test = m.evaluate(seq_array_test_last, label_array_test_last, verbose=2)\n",
        "print('Accurracy: {}'.format(scores_test[1]))"
      ],
      "execution_count": 42,
      "outputs": [
        {
          "output_type": "stream",
          "text": [
            "Accurracy: 0.9677419297156795\n"
          ],
          "name": "stdout"
        }
      ]
    },
    {
      "metadata": {
        "id": "Ox6kkUPd-ojn",
        "colab_type": "code",
        "outputId": "ee708334-c5b8-459d-b7a1-d27ec5d8edf9",
        "colab": {
          "base_uri": "https://localhost:8080/",
          "height": 102
        }
      },
      "cell_type": "code",
      "source": [
        "# make predictions and compute confusion matrix\n",
        "y_prob_test = m.predict(seq_array_test_last)\n",
        "y_pred_test = np.where(y_prob_test>0.5,1,0)\n",
        "y_true_test = label_array_test_last\n",
        "print('Confusion matrix\\n- x-axis is true labels.\\n- y-axis is predicted labels')\n",
        "cm = confusion_matrix(y_true_test, y_pred_test)\n",
        "cm"
      ],
      "execution_count": 43,
      "outputs": [
        {
          "output_type": "stream",
          "text": [
            "Confusion matrix\n",
            "- x-axis is true labels.\n",
            "- y-axis is predicted labels\n"
          ],
          "name": "stdout"
        },
        {
          "output_type": "execute_result",
          "data": {
            "text/plain": [
              "array([[67,  1],\n",
              "       [ 2, 23]])"
            ]
          },
          "metadata": {
            "tags": []
          },
          "execution_count": 43
        }
      ]
    },
    {
      "metadata": {
        "id": "4M_ZtcGs-onX",
        "colab_type": "code",
        "outputId": "10cf9d55-f445-4e43-e463-ea97c776004c",
        "colab": {
          "base_uri": "https://localhost:8080/",
          "height": 68
        }
      },
      "cell_type": "code",
      "source": [
        "# compute precision and recall\n",
        "precision_test = precision_score(y_true_test, y_pred_test)\n",
        "recall_test = recall_score(y_true_test, y_pred_test)\n",
        "f1_test = 2 * (precision_test * recall_test) / (precision_test + recall_test)\n",
        "print( 'Precision: ', precision_test, '\\n', 'Recall: ', recall_test,'\\n', 'F1-score:', f1_test )"
      ],
      "execution_count": 44,
      "outputs": [
        {
          "output_type": "stream",
          "text": [
            "Precision:  0.9583333333333334 \n",
            " Recall:  0.92 \n",
            " F1-score: 0.9387755102040817\n"
          ],
          "name": "stdout"
        }
      ]
    },
    {
      "metadata": {
        "id": "Q3zhylCbBGpf",
        "colab_type": "code",
        "outputId": "c05cfcfd-9195-4233-c24e-26ff939edbfa",
        "colab": {
          "base_uri": "https://localhost:8080/",
          "height": 80
        }
      },
      "cell_type": "code",
      "source": [
        "results_df = pd.DataFrame([[scores_test[1],precision_test,recall_test,f1_test]],\n",
        "                          columns = ['Accuracy', 'Precision', 'Recall', 'F1-score'],\n",
        "                         index = ['TCN'])\n",
        "results_df"
      ],
      "execution_count": 46,
      "outputs": [
        {
          "output_type": "execute_result",
          "data": {
            "text/html": [
              "<div>\n",
              "<style scoped>\n",
              "    .dataframe tbody tr th:only-of-type {\n",
              "        vertical-align: middle;\n",
              "    }\n",
              "\n",
              "    .dataframe tbody tr th {\n",
              "        vertical-align: top;\n",
              "    }\n",
              "\n",
              "    .dataframe thead th {\n",
              "        text-align: right;\n",
              "    }\n",
              "</style>\n",
              "<table border=\"1\" class=\"dataframe\">\n",
              "  <thead>\n",
              "    <tr style=\"text-align: right;\">\n",
              "      <th></th>\n",
              "      <th>Accuracy</th>\n",
              "      <th>Precision</th>\n",
              "      <th>Recall</th>\n",
              "      <th>F1-score</th>\n",
              "    </tr>\n",
              "  </thead>\n",
              "  <tbody>\n",
              "    <tr>\n",
              "      <th>TCN</th>\n",
              "      <td>0.967742</td>\n",
              "      <td>0.958333</td>\n",
              "      <td>0.92</td>\n",
              "      <td>0.938776</td>\n",
              "    </tr>\n",
              "  </tbody>\n",
              "</table>\n",
              "</div>"
            ],
            "text/plain": [
              "     Accuracy  Precision  Recall  F1-score\n",
              "TCN  0.967742   0.958333    0.92  0.938776"
            ]
          },
          "metadata": {
            "tags": []
          },
          "execution_count": 46
        }
      ]
    },
    {
      "metadata": {
        "id": "jRKm5rFxBgYE",
        "colab_type": "code",
        "colab": {}
      },
      "cell_type": "code",
      "source": [
        ""
      ],
      "execution_count": 0,
      "outputs": []
    }
  ]
}